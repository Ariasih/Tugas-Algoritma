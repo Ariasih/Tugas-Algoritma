{
  "cells": [
    {
      "cell_type": "markdown",
      "metadata": {
        "id": "-vASVCYcfeEV"
      },
      "source": [
        "# 5.5 *String Index* "
      ]
    },
    {
      "cell_type": "code",
      "execution_count": null,
      "metadata": {
        "colab": {
          "base_uri": "https://localhost:8080/"
        },
        "id": "w2eUf6Mrh2P_",
        "outputId": "c6be687c-526f-4f8f-a9c8-3389eb7c446f"
      },
      "outputs": [
        {
          "name": "stdout",
          "output_type": "stream",
          "text": [
            "bela\n"
          ]
        }
      ],
      "source": [
        "#Tugas pertemuan ketiga\n",
        "#String indeks\n",
        "#pengurutan variabel diurutkan dengan indeks yang dimulai dari 0. Urutan paling-\n",
        "#terakhir merupakan urutan -1, urutan kedua terakhir di definisikan -2, begitu seterusnya\n",
        "kegiatan = \"belajar algoritma\"\n",
        "print(kegiatan[0:4])\n",
        "#b didefinisikan 0, dan spasi juga masuk ke perhitungan\n",
        "#output yang dihasilkan akan dimulai dari huruf yang mempunyai definisi 0 dan berakhir pada huruf yang didefinisikan 4"
      ]
    },
    {
      "cell_type": "code",
      "execution_count": null,
      "metadata": {
        "colab": {
          "base_uri": "https://localhost:8080/"
        },
        "id": "RyexrEM0kQSA",
        "outputId": "38b5ce90-9f70-453c-9f5b-40ffb351430b"
      },
      "outputs": [
        {
          "name": "stdout",
          "output_type": "stream",
          "text": [
            "belajar algorit\n"
          ]
        }
      ],
      "source": [
        "kegiatan = \"belajar algoritma\"\n",
        "print(kegiatan[0:-2])\n",
        "#contoh string index"
      ]
    },
    {
      "cell_type": "code",
      "execution_count": null,
      "metadata": {
        "colab": {
          "base_uri": "https://localhost:8080/"
        },
        "id": "CcDyvvuUm2oo",
        "outputId": "eec2c3db-0a80-45dd-8af4-94f873793088"
      },
      "outputs": [
        {
          "name": "stdout",
          "output_type": "stream",
          "text": [
            "oagAis\n"
          ]
        }
      ],
      "source": [
        "nama = \"Ni Komang Ariasih\"\n",
        "print(nama[4:-2:2])\n",
        "#4 artinya dimulai dari huruf yang ke empat (o)\n",
        "#-2 artinya sampai huruf belakang dikurang 2 (s)\n",
        "#2 artinya dari huruf keempat terus loncat 2 kali\n",
        "#perlu diingat bahwa spasi juga dihitung, sehingga spasi pertama didefinisikan 3, dan spasi kedua didefinisikan 10"
      ]
    },
    {
      "cell_type": "code",
      "execution_count": null,
      "metadata": {
        "colab": {
          "base_uri": "https://localhost:8080/"
        },
        "id": "pkRacifPo0wg",
        "outputId": "fb0acc15-9038-443a-e9fe-0adc1f0b111f"
      },
      "outputs": [
        {
          "name": "stdout",
          "output_type": "stream",
          "text": [
            "Ari belajar\n"
          ]
        }
      ],
      "source": [
        "nama = \"Ariasih\"\n",
        "kegiatan = \"belajar algoritma\"\n",
        "print(nama[0:3] + \" \"+kegiatan[0:7])\n",
        "#mencoba menggabungkan variabel pada string index"
      ]
    },
    {
      "cell_type": "markdown",
      "metadata": {
        "id": "83p5oAytpvi2"
      },
      "source": [
        "# 5.6 *String Method*"
      ]
    },
    {
      "cell_type": "code",
      "execution_count": null,
      "metadata": {
        "colab": {
          "base_uri": "https://localhost:8080/"
        },
        "id": "SBtfgzSzsrsS",
        "outputId": "f344a9af-fe4c-4d06-b605-007add82b015"
      },
      "outputs": [
        {
          "name": "stdout",
          "output_type": "stream",
          "text": [
            "24\n"
          ]
        }
      ],
      "source": [
        "#strings method digunakan untuk untuk membuang bagian spasi ataupun string kosong diawal string\n",
        "#string method berbeda dengan string index yang mengurutkan variabel dari 0.\n",
        "kelas = \"Hari ini kelas Algoritma\"\n",
        "print(len(kelas))\n",
        "#digunakan untuk mengetahui jumlah karakter"
      ]
    },
    {
      "cell_type": "code",
      "execution_count": null,
      "metadata": {
        "colab": {
          "base_uri": "https://localhost:8080/",
          "height": 35
        },
        "id": "_UOStWBNvd_j",
        "outputId": "6e43bf81-5c58-42c5-ac9f-61ac4d24aacc"
      },
      "outputs": [
        {
          "data": {
            "application/vnd.google.colaboratory.intrinsic+json": {
              "type": "string"
            },
            "text/plain": [
              "'universitas udayana'"
            ]
          },
          "execution_count": 10,
          "metadata": {},
          "output_type": "execute_result"
        }
      ],
      "source": [
        "kelas = \"Hari ini kelas Algoritma\"\n",
        "kelas.upper()\n",
        "#digunakan untuk mengubah huruf menjadi kapital semua\n",
        "kelas_1 = \"Universitas Udayana\"\n",
        "kelas_1.lower()\n",
        "#digunakan untuk mengubah huruf menjadi huruf kecil semua\n",
        "#pada program ini output yang dikeluarkan hanya program yang terakhir saja.\n"
      ]
    },
    {
      "cell_type": "code",
      "execution_count": null,
      "metadata": {
        "colab": {
          "base_uri": "https://localhost:8080/",
          "height": 35
        },
        "id": "wfCjSbtWtnIg",
        "outputId": "fae864df-6047-475d-e77c-07a1663eb334"
      },
      "outputs": [
        {
          "data": {
            "application/vnd.google.colaboratory.intrinsic+json": {
              "type": "string"
            },
            "text/plain": [
              "'HARI INI KELAS ALGORITMA'"
            ]
          },
          "execution_count": 11,
          "metadata": {},
          "output_type": "execute_result"
        }
      ],
      "source": [
        "kelas = \"Hari ini kelas Algoritma\"\n",
        "kelas.upper()\n",
        "#digunakan untuk mengubah huruf menjadi kapital semua"
      ]
    },
    {
      "cell_type": "code",
      "execution_count": null,
      "metadata": {
        "colab": {
          "base_uri": "https://localhost:8080/"
        },
        "id": "hj-FFJlK2rLX",
        "outputId": "0ea5f995-6013-4797-b1d4-53650d69b466"
      },
      "outputs": [
        {
          "data": {
            "text/plain": [
              "5"
            ]
          },
          "execution_count": 14,
          "metadata": {},
          "output_type": "execute_result"
        }
      ],
      "source": [
        "kelas = \"Hari ini kelas Algoritma\"\n",
        "kelas.find(\"ini\")\n",
        "#digunakan untuk memudahkan mencari kata atau kalimat tertentu"
      ]
    },
    {
      "cell_type": "code",
      "execution_count": null,
      "metadata": {
        "colab": {
          "base_uri": "https://localhost:8080/",
          "height": 35
        },
        "id": "M_QPJblq3x-B",
        "outputId": "59602250-96c9-4f39-9da7-1e5f4be44b71"
      },
      "outputs": [
        {
          "data": {
            "application/vnd.google.colaboratory.intrinsic+json": {
              "type": "string"
            },
            "text/plain": [
              "'Sekarang Algoritma'"
            ]
          },
          "execution_count": 2,
          "metadata": {},
          "output_type": "execute_result"
        }
      ],
      "source": [
        "#apabila ingin mengganti kata maupun kalimat, bisa menggunakan replace\n",
        "#dengan kata yang ingin diganti pada bagian depan, dan kata yang digunakan untuk mengganti pada bagian belakang\n",
        "kelas = \"Hari ini kelas Algoritma\"\n",
        "kelas.replace(\"Hari ini kelas\", \"Sekarang\")\n",
        "#digunakan untuk mengganti kata atau kalimat\n",
        "#apabila ingin mengganti kata atau kalimat, penulisan kata atau kalimat yang ingin diganti harus sesuai dengan yang sudah ada sebelumnya\n",
        "#jika tidak, kata atau kalimat tidak akan berubah"
      ]
    },
    {
      "cell_type": "code",
      "execution_count": null,
      "metadata": {
        "colab": {
          "base_uri": "https://localhost:8080/",
          "height": 35
        },
        "id": "biUa9KSQ5BAM",
        "outputId": "1eadd4fc-74da-476e-c997-df2ab4b7b010"
      },
      "outputs": [
        {
          "data": {
            "application/vnd.google.colaboratory.intrinsic+json": {
              "type": "string"
            },
            "text/plain": [
              "'Hari ini kelas Algoritma'"
            ]
          },
          "execution_count": 3,
          "metadata": {},
          "output_type": "execute_result"
        }
      ],
      "source": [
        "kelas = \"Hari ini kelas Algoritma\"\n",
        "kelas.replace(\"Ini kelas\", \"Sekarang\")\n",
        "#kalimat ini tidak akan berubah. Karena kata 'Ini' tidak ada dalam kalimat\n"
      ]
    },
    {
      "cell_type": "code",
      "execution_count": null,
      "metadata": {
        "colab": {
          "base_uri": "https://localhost:8080/"
        },
        "id": "QgZpD0CN7Yyk",
        "outputId": "896681f2-166e-46a3-8cee-a7d11aac0307"
      },
      "outputs": [
        {
          "name": "stdout",
          "output_type": "stream",
          "text": [
            "False\n"
          ]
        }
      ],
      "source": [
        "kelas = \"Hari ini kelas Algoritma\"\n",
        "print(\"Ini\" in kelas)"
      ]
    },
    {
      "cell_type": "code",
      "execution_count": null,
      "metadata": {
        "colab": {
          "base_uri": "https://localhost:8080/"
        },
        "id": "Qeb-7cgX71Aw",
        "outputId": "f918d979-1e77-4084-d10b-34b9ca7f50c2"
      },
      "outputs": [
        {
          "name": "stdout",
          "output_type": "stream",
          "text": [
            "True\n"
          ]
        }
      ],
      "source": [
        "kelas = \"Hari ini kelas Algoritma\"\n",
        "print(\"ini\" in kelas)"
      ]
    },
    {
      "cell_type": "markdown",
      "metadata": {
        "id": "ZfthkBbC8YaD"
      },
      "source": [
        "# 5.7 *Operasi Matematika di Phyton*"
      ]
    },
    {
      "cell_type": "code",
      "execution_count": null,
      "metadata": {
        "colab": {
          "base_uri": "https://localhost:8080/"
        },
        "id": "A0zceEk6ww28",
        "outputId": "6893d78c-3483-4477-c378-2c401507657a"
      },
      "outputs": [
        {
          "name": "stdout",
          "output_type": "stream",
          "text": [
            "10\n",
            "6\n",
            "15\n",
            "4.5\n",
            "4\n",
            "0\n",
            "64\n"
          ]
        }
      ],
      "source": [
        "#Terdapat beberapa operasi matematika di Phyton sepeti penjumlahan (+)\n",
        "#Pengurangan (-), perkalian (*), pembagian (/), pembulatan pembagian (//), \n",
        "#Modulo (%), pemangkatan (**)\n",
        "print(5+5)\n",
        "print(8-2)\n",
        "print(3*5)\n",
        "print(18/4)\n",
        "print(18//4)\n",
        "print(10%2)\n",
        "print(4**3)"
      ]
    },
    {
      "cell_type": "code",
      "execution_count": null,
      "metadata": {
        "colab": {
          "base_uri": "https://localhost:8080/"
        },
        "id": "FtZ1fIkT-ge0",
        "outputId": "ee687bc8-5ea9-4d2d-9bc1-33a5dea64bdf"
      },
      "outputs": [
        {
          "name": "stdout",
          "output_type": "stream",
          "text": [
            "7\n",
            "4\n",
            "8\n"
          ]
        }
      ],
      "source": [
        "#Pada operasi matematika di Phyton juga terdapat augmented operator: contoh: x = 5, x+ = 2 \n",
        "#artinya x = x + 2. Berlaku juga pada pengurangan dan perkalian.\n",
        "x = 5\n",
        "x+= 2\n",
        "print(x)\n",
        "x-= 3\n",
        "print(x)\n",
        "x*= 2\n",
        "print(x)\n",
        "#pada hal ini program menyelesaikan angka yang dimasukkan terlebih dahulu, lalu dikurang dengan 3 kemudian hasilnya dikalikan 2"
      ]
    },
    {
      "cell_type": "code",
      "execution_count": null,
      "metadata": {
        "colab": {
          "base_uri": "https://localhost:8080/"
        },
        "id": "FPuQIzJ-_5B5",
        "outputId": "9a956986-65f3-4459-b343-7e6c218ca03d"
      },
      "outputs": [
        {
          "name": "stdout",
          "output_type": "stream",
          "text": [
            "92\n"
          ]
        }
      ],
      "source": [
        "x = 15\n",
        "print(x+2 + x*5)\n",
        "#menggabungkan penjumlahan dan perkalian"
      ]
    },
    {
      "cell_type": "markdown",
      "metadata": {
        "id": "OWYsY3yKAtYZ"
      },
      "source": [
        "# 5.8 *Operator perbandingan di Phyton*"
      ]
    },
    {
      "cell_type": "code",
      "execution_count": null,
      "metadata": {
        "colab": {
          "base_uri": "https://localhost:8080/"
        },
        "id": "-eF5N6c2zFgl",
        "outputId": "4315cf4e-c163-4b52-cfbe-95fc2960780e"
      },
      "outputs": [
        {
          "name": "stdout",
          "output_type": "stream",
          "text": [
            "True\n",
            "False\n",
            "False\n",
            "True\n",
            "True\n",
            "False\n"
          ]
        }
      ],
      "source": [
        "#operator perbandingan di phyton\n",
        "#hasil outputnya berupa boolean\n",
        "#adapun beberapa operator perbandingan di phyton antara lain; lebih besar (>)\n",
        "#lebih kecil (<), lebih besar sama dengan (>=), lebih kecil sama dengan (<=),\n",
        "#sama dengan (==), dan tidak sama dengan (!=)\n",
        "X= 6>3\n",
        "print(X)\n",
        "X= 6<=3\n",
        "print(X)\n",
        "X= 6<3\n",
        "print(X)\n",
        "X= 6>=5\n",
        "print(X)\n",
        "X= 6==6\n",
        "print(X)\n",
        "X= 6!=6\n",
        "print(X)"
      ]
    },
    {
      "cell_type": "code",
      "execution_count": null,
      "metadata": {
        "colab": {
          "base_uri": "https://localhost:8080/"
        },
        "id": "ZrO1lO9hDEEL",
        "outputId": "3470e480-ee62-4fe4-d8d4-ffb0e6e2d424"
      },
      "outputs": [
        {
          "name": "stdout",
          "output_type": "stream",
          "text": [
            "False\n",
            "True\n"
          ]
        }
      ],
      "source": [
        "#operator perbandingan tidak hanya digunakan pada tipe data angka saja, tetapi juga bisa digunakan pada tipe data string\n",
        "print(\"Sekolah menengah\" == \"sekolah menengah\")\n",
        "print(\"Sekolah menengah\" == \"Sekolah menengah\")\n",
        "#yang pertama akan false karena ada perbedaa penggunaan huruf kapital pada \"s\""
      ]
    },
    {
      "cell_type": "markdown",
      "metadata": {
        "id": "FVyN5JbaF_J2"
      },
      "source": [
        "# 5.9 *Operator Logika di Phyton*"
      ]
    },
    {
      "cell_type": "code",
      "execution_count": null,
      "metadata": {
        "colab": {
          "base_uri": "https://localhost:8080/"
        },
        "id": "iPQVNd1q16c7",
        "outputId": "6fff387f-dbc5-481e-e1f2-f266687e1862"
      },
      "outputs": [
        {
          "name": "stdout",
          "output_type": "stream",
          "text": [
            "False\n",
            "False\n",
            "True\n"
          ]
        }
      ],
      "source": [
        "#operator logika di pyhton antara lain and, or dan not. Hasil outputnya berupa boolean\n",
        "#and akan bernilai True jika keduanya bernilai True\n",
        "#or akan bernilai True jika salah satunya bernilai True\n",
        "#not akan menghasilkan nilai berlawanan. \n",
        "#operator digunakan untuk membandingkan 2 kondisi logika (True, False)\n",
        "buah_duren = 5\n",
        "buah_rambutan = 7\n",
        "print(buah_duren > 5 and buah_rambutan < 6)\n",
        "print(buah_duren > 5 or buah_rambutan < 6)\n",
        "print((not buah_duren > 5 or buah_rambutan < 6))\n",
        "#contoh keduanya bernilai False\n"
      ]
    },
    {
      "cell_type": "code",
      "execution_count": null,
      "metadata": {
        "colab": {
          "base_uri": "https://localhost:8080/"
        },
        "id": "NOZv6pVhIW13",
        "outputId": "c8fdc7b9-520d-483e-8cdf-fd933f0a320a"
      },
      "outputs": [
        {
          "name": "stdout",
          "output_type": "stream",
          "text": [
            "False\n",
            "True\n",
            "False\n",
            "False\n"
          ]
        }
      ],
      "source": [
        "angka_pertama = 7\n",
        "angka_kedua = 10\n",
        "print(angka_pertama > 5 and angka_kedua < 6)\n",
        "print(angka_pertama > 5 or angka_kedua < 6)\n",
        "print((not angka_pertama > 5 or angka_kedua < 6))\n",
        "print((not angka_pertama > 5 and angka_kedua < 6))\n",
        "#salah satu bernilai True"
      ]
    },
    {
      "cell_type": "code",
      "execution_count": null,
      "metadata": {
        "colab": {
          "base_uri": "https://localhost:8080/"
        },
        "id": "EyQPRt28KVTs",
        "outputId": "ffa817b7-ad59-4d29-8881-80514de2ac79"
      },
      "outputs": [
        {
          "name": "stdout",
          "output_type": "stream",
          "text": [
            "True\n",
            "True\n",
            "True\n",
            "False\n"
          ]
        }
      ],
      "source": [
        "angka_pertama = 7\n",
        "angka_kedua = 10\n",
        "print(angka_pertama > 5 and angka_kedua < 15)\n",
        "print(angka_pertama > 5 or angka_kedua < 15)\n",
        "print((not angka_pertama > 5 or angka_kedua < 15))\n",
        "print((not angka_pertama > 5 and angka_kedua < 15))\n",
        "#keduanya bernilai True"
      ]
    },
    {
      "cell_type": "markdown",
      "metadata": {
        "id": "GnVLMtBhKss0"
      },
      "source": [
        "# 5.10 *Operator if di Phyton*"
      ]
    },
    {
      "cell_type": "code",
      "execution_count": null,
      "metadata": {
        "colab": {
          "base_uri": "https://localhost:8080/"
        },
        "id": "Q2Q2WUA9K52y",
        "outputId": "3f9df1ca-0e30-4a10-a537-29e8bf027ddf"
      },
      "outputs": [
        {
          "name": "stdout",
          "output_type": "stream",
          "text": [
            "nilai anda adalah 80\n",
            "anda mendapatkan nilai B\n",
            "tinggkatkan prestasi anda\n"
          ]
        }
      ],
      "source": [
        "nilai = float (input(\"nilai anda adalah \"))\n",
        "if nilai >= 90:\n",
        "  print(\"anda mendapatkan nilai A\")\n",
        "  print(\"selamat, bagus sekali\")\n",
        "if nilai < 90 and nilai >= 70:\n",
        "  print(\"anda mendapatkan nilai B\")\n",
        "  print(\"tinggkatkan prestasi anda\")\n",
        "if nilai < 70 and nilai >= 50:\n",
        "  print(\"anda mendapatkan nilai C\")\n",
        "  print(\"harus lebih giat belajar\")\n",
        "#float digunakan untuk apabila ingin memasukkan bilangan real\n",
        "#if digunakan untuk pembanding benar atau salah\n",
        "#apabila variabel bernilai True, maka program dapat dijalankan\n",
        "#apabila variabel bernilai False, maka program tidak dapat dijalankan\n",
        "#Jika if hanya bisa menjalakan program yang bernilai True, maka program yang bernilai salah dapat dijalankan menggunakan else"
      ]
    },
    {
      "cell_type": "code",
      "execution_count": 13,
      "metadata": {
        "colab": {
          "base_uri": "https://localhost:8080/"
        },
        "id": "uq6zGjQdMZY0",
        "outputId": "e88da9e9-2d0a-47f8-da22-796751834043"
      },
      "outputs": [
        {
          "output_type": "stream",
          "name": "stdout",
          "text": [
            "Sepuluh memang lebih besar dari delapan\n",
            "Sepuluh memang lebih besar dari dua belas\n"
          ]
        }
      ],
      "source": [
        "nilai = 10\n",
        "if(nilai > 8):\n",
        "  print(\"Sepuluh memang lebih besar dari delapan\")\n",
        "#program dapat dijalankan karena bernilai True\n",
        "nilai = 10\n",
        "if(nilai > 11):\n",
        "  print(\"Sepuluh memang lebih besar dari sebelas\")\n",
        "#program tidak dijalankan karena bernilai False\n",
        "print(\"Sepuluh memang lebih besar dari dua belas\")\n",
        "#program ini dijalankan karena berada di luar blok kode if\n",
        "#blok kode di dalam python ditentukan oleh indentasi\n",
        "#indentasi merupakan spasi yang ada sebelum print "
      ]
    },
    {
      "cell_type": "code",
      "execution_count": null,
      "metadata": {
        "id": "N4oaXMunNEh_"
      },
      "outputs": [],
      "source": [
        "nilai = 10\n",
        "if(nilai > 11):\n",
        "  print(\"Sepuluh memang lebih besar dari sebelas\")\n",
        "#program tidak dijalankan karena bernilai False\n"
      ]
    },
    {
      "cell_type": "code",
      "source": [
        "nilai = float (input(\"nilai anda adalah \"))\n",
        "if nilai >= 85:\n",
        "  print(\"anda mendapatkan nilai A\")\n",
        "  print(\"selamat, bagus sekali\")\n",
        "elif nilai < 85 and nilai >= 70:\n",
        "  print(\"anda mendapatkan nilai B\")\n",
        "  print(\"tinggkatkan prestasi anda\")\n",
        "elif nilai < 70 and nilai >= 50:\n",
        "  print(\"anda mendapatkan nilai C\")\n",
        "  print(\"harus lebih giat belajar\")\n",
        "#kondisi elif hampir sama dengan if\n",
        "#elif merupakan pengembangan dari if else\n",
        "#jika pada if dan else hanya bisa mengeluarkan satu output atau pilihan, maka pada elif bisa mengeluarkan banyak pilihan\n",
        "#sesuai dengan kondisi yang di buat"
      ],
      "metadata": {
        "colab": {
          "base_uri": "https://localhost:8080/"
        },
        "id": "KAePN_ZCZqSW",
        "outputId": "6872584c-4836-4166-edce-cb5bfd9504e0"
      },
      "execution_count": 9,
      "outputs": [
        {
          "output_type": "stream",
          "name": "stdout",
          "text": [
            "nilai anda adalah 76\n",
            "anda mendapatkan nilai B\n",
            "tinggkatkan prestasi anda\n"
          ]
        }
      ]
    },
    {
      "cell_type": "code",
      "source": [
        "nilai = float (input(\"nilai anda adalah \"))\n",
        "if nilai >= 85:\n",
        "  print(\"anda mendapatkan nilai A\")\n",
        "  print(\"selamat, bagus sekali\")\n",
        "elif nilai >= 70:\n",
        "  print(\"anda mendapatkan nilai B\")\n",
        "  print(\"tinggkatkan prestasi anda\")\n",
        "elif nilai >= 50:\n",
        "  print(\"anda mendapatkan nilai C\")\n",
        "  print(\"harus lebih giat belajar\")\n",
        "#perbedaan penggunaan elif dan if dapat dilihat pada contoh nilai dan nilai_2\n",
        "#pada elif kita membuat 1 percabangan walaupun meskipun kondisi yang terpenuhi lebih dari 1"
      ],
      "metadata": {
        "colab": {
          "base_uri": "https://localhost:8080/"
        },
        "id": "-EToCcMLf7fC",
        "outputId": "4985bbce-6f43-4156-f233-7d88e50aa2e2"
      },
      "execution_count": 5,
      "outputs": [
        {
          "output_type": "stream",
          "name": "stdout",
          "text": [
            "nilai anda adalah 90\n",
            "anda mendapatkan nilai A\n",
            "selamat, bagus sekali\n"
          ]
        }
      ]
    },
    {
      "cell_type": "code",
      "source": [
        "nilai_2 = float (input(\"nilai anda adalah \"))\n",
        "if nilai_2 >= 85:\n",
        "  print(\"anda mendapatkan nilai A\")\n",
        "  print(\"selamat, bagus sekali\")\n",
        "if nilai_2 >= 70:\n",
        "  print(\"anda mendapatkan nilai B\")\n",
        "  print(\"tinggkatkan prestasi anda\")\n",
        "if nilai_2 >= 50:\n",
        "  print(\"anda mendapatkan nilai C\")\n",
        "  print(\"harus lebih giat belajar\")\n",
        "#perbedaan penggunaan if dan elif dapat dilihat pada contoh nilai dan nilai_2\n",
        "#sedangkan untuk if, kita membuat banyak percabangan. Karena setiap kita membuat blok kode if, artinya kita membuat satu percabangan\n",
        "#dan outputnya pun sesuai dengan berapa banyak kondisi yang terpenuhi"
      ],
      "metadata": {
        "colab": {
          "base_uri": "https://localhost:8080/"
        },
        "id": "4-WGsj_EkK0h",
        "outputId": "eca51cf4-d0ad-45bd-c3ce-0b2498bf3eaf"
      },
      "execution_count": 8,
      "outputs": [
        {
          "output_type": "stream",
          "name": "stdout",
          "text": [
            "nilai anda adalah 90\n",
            "anda mendapatkan nilai A\n",
            "selamat, bagus sekali\n",
            "anda mendapatkan nilai B\n",
            "tinggkatkan prestasi anda\n",
            "anda mendapatkan nilai C\n",
            "harus lebih giat belajar\n"
          ]
        }
      ]
    },
    {
      "cell_type": "code",
      "source": [
        "tinggi = float(input(\"berapakah tinggi saya? \"))\n",
        "cm_atau_inci = input(\"dalam satuan apa? \")\n",
        "if cm_atau_inci == \"cm\":\n",
        "  tinggi = tinggi*0.393701\n",
        "  print(\"Tinggi saya adalah \" + str(tinggi) +\" \"+ \"inci\")\n",
        "elif cm_atau_inci == \"inci\":\n",
        "  tinggi = tinggi/0.393701\n",
        "  print(f\"Tinggi saya adalah \" + str(tinggi) + \"cm\")\n"
      ],
      "metadata": {
        "colab": {
          "base_uri": "https://localhost:8080/"
        },
        "id": "AExsY-aYm85d",
        "outputId": "65025712-9b15-4b0b-fd1c-ea2483d7ca7a"
      },
      "execution_count": 13,
      "outputs": [
        {
          "output_type": "stream",
          "name": "stdout",
          "text": [
            "berapakah tinggi saya? 165\n",
            "dalam satuan apa? cm\n",
            "Tinggi saya adalah 64.960665 inci\n"
          ]
        }
      ]
    },
    {
      "cell_type": "code",
      "source": [
        "#penggunaan if else\n",
        "nilai = float (input(\"nilai anda adalah \"))\n",
        "if nilai >= 85 :\n",
        "  print(\"anda mendapatkan nilai A\")\n",
        "  print(\"selamat, bagus sekali\")\n",
        "else :\n",
        "  print(\"anda mendapatkan nilai B\")\n",
        "  print(\"tinggkatkan prestasi anda\")\n",
        "#program memeriksa terlebih dahulu nilai yang akan dimasukkan \n"
      ],
      "metadata": {
        "colab": {
          "base_uri": "https://localhost:8080/"
        },
        "id": "1rZ34sGYspbJ",
        "outputId": "d9105334-e198-4be2-9e89-efb2b59edefb"
      },
      "execution_count": 3,
      "outputs": [
        {
          "output_type": "stream",
          "name": "stdout",
          "text": [
            "nilai anda adalah 80\n",
            "anda mendapatkan nilai B\n",
            "tinggkatkan prestasi anda\n"
          ]
        }
      ]
    },
    {
      "cell_type": "code",
      "source": [
        "nilai = 75\n",
        "if nilai > 70:\n",
        "  print(\"anda lolos\")\n",
        "else :\n",
        "  print(\"anda tidak lolos\")\n",
        "#else digunakan untuk menyatakan kondisi sebaliknya yang ada pada if"
      ],
      "metadata": {
        "colab": {
          "base_uri": "https://localhost:8080/"
        },
        "id": "X3OLf8DZvekX",
        "outputId": "e4e72c49-8ed3-485f-ff71-74f8d93d533b"
      },
      "execution_count": 4,
      "outputs": [
        {
          "output_type": "stream",
          "name": "stdout",
          "text": [
            "anda lolos\n"
          ]
        }
      ]
    }
  ],
  "metadata": {
    "colab": {
      "provenance": []
    },
    "kernelspec": {
      "display_name": "Python 3",
      "name": "python3"
    },
    "language_info": {
      "name": "python"
    }
  },
  "nbformat": 4,
  "nbformat_minor": 0
}