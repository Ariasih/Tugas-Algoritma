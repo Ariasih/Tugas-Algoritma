{
  "nbformat": 4,
  "nbformat_minor": 0,
  "metadata": {
    "colab": {
      "provenance": []
    },
    "kernelspec": {
      "name": "python3",
      "display_name": "Python 3"
    },
    "language_info": {
      "name": "python"
    }
  },
  "cells": [
    {
      "cell_type": "code",
      "source": [
        "#print digunakan untuk mencetak kata yang ada di dalam tanda \" \" dan ' '\n",
        "nama_depan = \"angga\"\n",
        "nama_belakang = \"saputra\"\n",
        "print(nama_depan+\" \"+nama_belakang)"
      ],
      "metadata": {
        "colab": {
          "base_uri": "https://localhost:8080/"
        },
        "id": "LajYjxh68Lcn",
        "outputId": "0f583ec6-2c13-44f9-ce3f-2ef62349a180"
      },
      "execution_count": null,
      "outputs": [
        {
          "output_type": "stream",
          "name": "stdout",
          "text": [
            "angga saputra\n"
          ]
        }
      ]
    },
    {
      "cell_type": "code",
      "source": [
        "nama_depan = 'Ari'\n",
        "nama_tengah = ''\n",
        "nama_belakang = 'asih'\n",
        "print(nama_depan + nama_tengah + nama_belakang)\n",
        "#penggunaan tanda kutip harus berpasangan seperti \" \" dan ' '. Apabila menggunakan tanda yang berbeda (\" '), akan muncul error"
      ],
      "metadata": {
        "colab": {
          "base_uri": "https://localhost:8080/"
        },
        "id": "BbnU_YGwuGbx",
        "outputId": "40366f9c-ddb8-410e-f87e-74b6a2bf1a95"
      },
      "execution_count": null,
      "outputs": [
        {
          "output_type": "stream",
          "name": "stdout",
          "text": [
            "Ariasih\n"
          ]
        }
      ]
    },
    {
      "cell_type": "code",
      "source": [
        "nama_depan = \"Ari'\n",
        "nama_tengah = ''\n",
        "nama_belakang = 'asih'\n",
        "print(nama_depan + nama_tengah + nama_belakang)"
      ],
      "metadata": {
        "colab": {
          "base_uri": "https://localhost:8080/",
          "height": 130
        },
        "id": "imcZbgQiAhCk",
        "outputId": "2128dfaf-c6cd-42b8-9330-8a82b79e0645"
      },
      "execution_count": null,
      "outputs": [
        {
          "output_type": "error",
          "ename": "SyntaxError",
          "evalue": "ignored",
          "traceback": [
            "\u001b[0;36m  File \u001b[0;32m\"<ipython-input-10-552a38d934b0>\"\u001b[0;36m, line \u001b[0;32m1\u001b[0m\n\u001b[0;31m    nama_depan = \"Ari'\u001b[0m\n\u001b[0m                      ^\u001b[0m\n\u001b[0;31mSyntaxError\u001b[0m\u001b[0;31m:\u001b[0m EOL while scanning string literal\n"
          ]
        }
      ]
    },
    {
      "cell_type": "code",
      "source": [
        "nama = ' Ari'\n",
        "kegiatan = ' ulang tahun'\n",
        "print(\"selamat\" + kegiatan + nama)\n",
        "#Berikan spasi sebelum menulis nama, dan kegiatan dan setelah tanda petik pertama  agar outputnya menjadi lebih baik\n",
        "#Berikan spasi pada akhir atau awal kata, sesuai dengan output yang diinginkan"
      ],
      "metadata": {
        "colab": {
          "base_uri": "https://localhost:8080/"
        },
        "id": "uY9mptbBvevB",
        "outputId": "dd1030ba-2c3d-419c-9169-e1a22a1ded89"
      },
      "execution_count": null,
      "outputs": [
        {
          "output_type": "stream",
          "name": "stdout",
          "text": [
            "selamat ulang tahun Ari\n"
          ]
        }
      ]
    },
    {
      "cell_type": "code",
      "source": [
        "nama = input(\"input nama anda:\")\n",
        "print(\"Selamat pagi, \" + nama)"
      ],
      "metadata": {
        "colab": {
          "base_uri": "https://localhost:8080/"
        },
        "id": "Z7PE6rA485sb",
        "outputId": "0575cbd2-1462-4b0f-f0e0-5ebc8c75606b"
      },
      "execution_count": null,
      "outputs": [
        {
          "output_type": "stream",
          "name": "stdout",
          "text": [
            "input nama anda:Ari\n",
            "Selamat pagi, Ari\n"
          ]
        }
      ]
    },
    {
      "cell_type": "code",
      "source": [
        "uang_di_dompet = input(\"uang di dompet saya : \")\n",
        "uang_di_dalam_tas = input(\"uang di tas saya : \")\n",
        "print(\"jumlah total uang saya adalah \" + uang_di_dompet + uang_di_dalam_tas)"
      ],
      "metadata": {
        "colab": {
          "base_uri": "https://localhost:8080/"
        },
        "id": "UEUxB5xE9grq",
        "outputId": "3b6181ec-f64b-4ca0-c9db-b8241ff58b94"
      },
      "execution_count": null,
      "outputs": [
        {
          "output_type": "stream",
          "name": "stdout",
          "text": [
            "uang di dompet saya : 50000\n",
            "uang di tas saya : 100000\n",
            "jumlah total uang saya adalah 50000100000\n"
          ]
        }
      ]
    },
    {
      "cell_type": "code",
      "source": [
        "bilangan_satu = (\"50\")\n",
        "bilangan_kedua = (\"53\")\n",
        "jumlah = (bilangan_satu) + (bilangan_kedua)\n",
        "print(\"jumlah kedua bilangan adalah \"+ str(103))"
      ],
      "metadata": {
        "colab": {
          "base_uri": "https://localhost:8080/"
        },
        "id": "r2KZ5h27xShx",
        "outputId": "7bc9f1ac-3d9c-4440-f3c5-d27e950e4a54"
      },
      "execution_count": null,
      "outputs": [
        {
          "output_type": "stream",
          "name": "stdout",
          "text": [
            "jumlah kedua bilangan adalah 103\n"
          ]
        }
      ]
    },
    {
      "cell_type": "code",
      "source": [
        "uang_di_dompet = input(\"uang di dompet saya : \")\n",
        "uang_di_dalam_tas = input(\"uang di tas saya : \")\n",
        "total_uang_saya = int(uang_di_dompet) + int(uang_di_dalam_tas)\n",
        "print(\"jumlah uang saya adalah Rp \" + str(total_uang_saya)\n",
        "#output error karena kurang tanda kurung tutup di akhir"
      ],
      "metadata": {
        "colab": {
          "base_uri": "https://localhost:8080/",
          "height": 130
        },
        "id": "zegVrxJJ9z61",
        "outputId": "4999f88a-a55f-4b09-b313-89e1e5877f8a"
      },
      "execution_count": null,
      "outputs": [
        {
          "output_type": "error",
          "ename": "SyntaxError",
          "evalue": "ignored",
          "traceback": [
            "\u001b[0;36m  File \u001b[0;32m\"<ipython-input-5-1ee2e0cbcf1f>\"\u001b[0;36m, line \u001b[0;32m4\u001b[0m\n\u001b[0;31m    print(\"jumlah uang saya adalah Rp \" + str(total_uang_saya)\u001b[0m\n\u001b[0m                                                              ^\u001b[0m\n\u001b[0;31mSyntaxError\u001b[0m\u001b[0;31m:\u001b[0m unexpected EOF while parsing\n"
          ]
        }
      ]
    },
    {
      "cell_type": "code",
      "source": [
        "uang_di_dompet = input(\"uang di dompet saya : \")\n",
        "uang_di_dalam_tas = input(\"uang di tas saya : \")\n",
        "total_uang_saya = int(uang_di_dompet) + int(uang_di_dalam_tas)\n",
        "print(\"jumlah uang saya adalah Rp \" + str(total_uang_saya))\n",
        "#input digunakan jika kita ingin memasukkan data\n",
        "#pada program ini menggunakan dua type data yaitu int dan str\n",
        "#int digunakan apabila ingin memasukkan bilangan bulat dan tidak mengandung pecahan\n",
        "#str digunakan untuk gabungan huruf, angka dan karakter lainnya dan penambahan int"
      ],
      "metadata": {
        "colab": {
          "base_uri": "https://localhost:8080/"
        },
        "id": "yQ9N6qMo9-em",
        "outputId": "737e54f4-1736-408b-fc55-157bfa994bd1"
      },
      "execution_count": null,
      "outputs": [
        {
          "output_type": "stream",
          "name": "stdout",
          "text": [
            "uang di dompet saya : 50000\n",
            "uang di tas saya : 100000\n",
            "jumlah uang saya adalah Rp 150000\n"
          ]
        }
      ]
    },
    {
      "cell_type": "code",
      "source": [
        "buah_duren = 5\n",
        "buah_rambutan = 7\n",
        "print(buah_duren > 5 and buah_rambutan < 6)"
      ],
      "metadata": {
        "colab": {
          "base_uri": "https://localhost:8080/"
        },
        "id": "VX15D8gYyxRa",
        "outputId": "d9c96e38-bd82-4d4a-9f50-0bea4958655c"
      },
      "execution_count": null,
      "outputs": [
        {
          "output_type": "stream",
          "name": "stdout",
          "text": [
            "False\n"
          ]
        }
      ]
    },
    {
      "cell_type": "code",
      "source": [
        "nilai = float (input(\"nilai anda adalah \"))\n",
        "if nilai >= 90:\n",
        "  print(\"anda mendapatkan nilai A\")\n",
        "  print(\"selamat, bagus sekali\")\n",
        "if nilai < 90 and nilai >= 70:\n",
        "  print(\"anda mendapatkan nilai B\")\n",
        "  print(\"tinggkatkan prestasi anda\")\n",
        "if nilai < 70 and nilai >= 50:\n",
        "  print(\"anda mendapatkan nilai C\")\n",
        "  print(\"harus lebih giat belajar\")\n",
        "#float digunakan untuk apabila ingin memasukkan bilangan real\n",
        "#if digunakan untuk pembanding benar atau salah"
      ],
      "metadata": {
        "colab": {
          "base_uri": "https://localhost:8080/"
        },
        "id": "b86ChYIa0E1b",
        "outputId": "6fff9466-4515-44d2-dafa-934a657f0944"
      },
      "execution_count": null,
      "outputs": [
        {
          "output_type": "stream",
          "name": "stdout",
          "text": [
            "nilai anda adalah 80\n",
            "anda mendapatkan nilai B\n",
            "tinggkatkan prestasi anda\n"
          ]
        }
      ]
    },
    {
      "cell_type": "code",
      "source": [
        "nama = \"Ari\"\n",
        "pekerjaan = \"mahasiswi\"\n",
        "institusi = \"Universitas Udayana\"\n",
        "print(nama + \" adalah seorang \" + pekerjaan + \" di \" + institusi)\n",
        "#menggunakan type data formatted string untuk memudahkan kita dalam penulisan variabel, sehingga mengurangi kekeliruan"
      ],
      "metadata": {
        "colab": {
          "base_uri": "https://localhost:8080/"
        },
        "id": "aCdF12eBKDOh",
        "outputId": "fe0ea7fa-d0c5-4313-fec5-f5e5232bf086"
      },
      "execution_count": 2,
      "outputs": [
        {
          "output_type": "stream",
          "name": "stdout",
          "text": [
            "Ari adalah seorang mahasiswi di Universitas Udayana\n"
          ]
        }
      ]
    }
  ]
}