{
  "nbformat": 4,
  "nbformat_minor": 0,
  "metadata": {
    "colab": {
      "provenance": []
    },
    "kernelspec": {
      "name": "python3",
      "display_name": "Python 3"
    },
    "language_info": {
      "name": "python"
    }
  },
  "cells": [
    {
      "cell_type": "markdown",
      "source": [
        "# 5.16 ***List 2 Dimensi***\n",
        "List dua dimensi digunakan untuk menempatkan list didalam list. Biasanya penggambarannya berbentuk matriks"
      ],
      "metadata": {
        "id": "_hrq2QHOqu5u"
      }
    },
    {
      "cell_type": "code",
      "execution_count": null,
      "metadata": {
        "colab": {
          "base_uri": "https://localhost:8080/"
        },
        "id": "14aCdo5FjEF7",
        "outputId": "9ec638e1-ff11-4bc1-a974-dd96dafb955a"
      },
      "outputs": [
        {
          "output_type": "stream",
          "name": "stdout",
          "text": [
            "[[1, 2, 3, 4], [5, 6, 7, 8], [9, 10, 11, 12], [13, 14, 15, 16]]\n"
          ]
        }
      ],
      "source": [
        "#Penggambarannya berbentuk matriks\n",
        "#indeksnya dimulai dari 0\n",
        "matriks = [\n",
        "    [1,2,3,4],\n",
        "    [5,6,7,8],\n",
        "    [9,10,11,12],\n",
        "    [13,14,15,16]\n",
        "]\n",
        "print(matriks)\n",
        "#hasil yang dikeluarkan berupa baris pada matriks"
      ]
    },
    {
      "cell_type": "code",
      "source": [
        "matriks [1]\n",
        "#output yang dihasilkan adalah matriks baris 2, karena indeksnya dimulai dari 0"
      ],
      "metadata": {
        "colab": {
          "base_uri": "https://localhost:8080/"
        },
        "id": "VuRo8hLQsR76",
        "outputId": "12abc8e4-5894-4a38-e485-e29a236f8823"
      },
      "execution_count": null,
      "outputs": [
        {
          "output_type": "execute_result",
          "data": {
            "text/plain": [
              "[5, 6, 7, 8]"
            ]
          },
          "metadata": {},
          "execution_count": 2
        }
      ]
    },
    {
      "cell_type": "code",
      "source": [
        "matriks [1][2]\n",
        "#[1] artinya baris yang kedua [5,6,7,8]\n",
        "#[2] artinya kolom ketiga [7]\n",
        "# ingat indeks dimulai dari 0"
      ],
      "metadata": {
        "colab": {
          "base_uri": "https://localhost:8080/"
        },
        "id": "9NDBjocpsjYv",
        "outputId": "36ab2da8-6df9-4598-a2a7-7978b84a9313"
      },
      "execution_count": null,
      "outputs": [
        {
          "output_type": "execute_result",
          "data": {
            "text/plain": [
              "7"
            ]
          },
          "metadata": {},
          "execution_count": 4
        }
      ]
    },
    {
      "cell_type": "code",
      "source": [
        "for baris in matriks:\n",
        "  print(baris)\n",
        "#mengambil baris di matriks"
      ],
      "metadata": {
        "colab": {
          "base_uri": "https://localhost:8080/"
        },
        "id": "2O_8zsTDt-oo",
        "outputId": "ef932336-a9aa-485a-b122-bfbb23b84d73"
      },
      "execution_count": null,
      "outputs": [
        {
          "output_type": "stream",
          "name": "stdout",
          "text": [
            "[1, 2, 3, 4]\n",
            "[5, 6, 7, 8]\n",
            "[9, 10, 11, 12]\n",
            "[13, 14, 15, 16]\n"
          ]
        }
      ]
    },
    {
      "cell_type": "code",
      "source": [
        "for kolom in matriks:\n",
        "  print(kolom)\n",
        "#mengambil kolom di matriks, hasilnya akan sama seperti mengambil baris"
      ],
      "metadata": {
        "colab": {
          "base_uri": "https://localhost:8080/"
        },
        "id": "OtVpkWp7uSip",
        "outputId": "0b11592e-d55b-43b9-c120-68114ad6d192"
      },
      "execution_count": null,
      "outputs": [
        {
          "output_type": "stream",
          "name": "stdout",
          "text": [
            "[1, 2, 3, 4]\n",
            "[5, 6, 7, 8]\n",
            "[9, 10, 11, 12]\n",
            "[13, 14, 15, 16]\n"
          ]
        }
      ]
    },
    {
      "cell_type": "code",
      "source": [
        "matriks = [\n",
        "    [1,2,3,4],\n",
        "    [5,6,7,8],\n",
        "    [9,10,11,12],\n",
        "    [13,14,15,16]\n",
        "]\n",
        "for kolom in matriks:\n",
        "  print(kolom)#misalkan mengambil kolom di matriks\n",
        "  for baris in kolom:\n",
        "    print(baris)#lalu ambil dijadikan baris"
      ],
      "metadata": {
        "colab": {
          "base_uri": "https://localhost:8080/"
        },
        "id": "MFf3pyEOvCjH",
        "outputId": "568a0a7f-94d1-41cd-b757-26423886ab4a"
      },
      "execution_count": null,
      "outputs": [
        {
          "output_type": "stream",
          "name": "stdout",
          "text": [
            "[1, 2, 3, 4]\n",
            "1\n",
            "2\n",
            "3\n",
            "4\n",
            "[5, 6, 7, 8]\n",
            "5\n",
            "6\n",
            "7\n",
            "8\n",
            "[9, 10, 11, 12]\n",
            "9\n",
            "10\n",
            "11\n",
            "12\n",
            "[13, 14, 15, 16]\n",
            "13\n",
            "14\n",
            "15\n",
            "16\n"
          ]
        }
      ]
    },
    {
      "cell_type": "markdown",
      "source": [
        "# 5.17 ***Tuples***\n",
        "Hampir sama dengan list akan tetapi tuples tidak dapat dirubah isinya. Jika kita\n",
        "memiliki data yang tidak ingin dirubah isinya, kita gunakan tuples, sedangkan\n",
        "jika datanya masih ingin dimanipulasi kedepannya, gunakan list."
      ],
      "metadata": {
        "id": "5d8O-lX6rgbT"
      }
    },
    {
      "cell_type": "code",
      "source": [
        "#tuples\n",
        "huruf = (\"a\",\"d\",\"s\",\"a\",\"d\",\"s\",\"e\",\"w\",\"g\")\n",
        "print(huruf[3])#mengambil huruf dengan indeks 3\n",
        "#indeks dimulai dari 0\n"
      ],
      "metadata": {
        "colab": {
          "base_uri": "https://localhost:8080/"
        },
        "id": "cfntP2D4wib8",
        "outputId": "b50ae2b6-40f6-4fc1-ebd7-bad69d18315a"
      },
      "execution_count": null,
      "outputs": [
        {
          "output_type": "stream",
          "name": "stdout",
          "text": [
            "a\n"
          ]
        }
      ]
    },
    {
      "cell_type": "code",
      "source": [
        "#memotong tuple\n",
        "print(huruf[3:7])\n",
        "#hasil akan berbentuk kolom atau mendatar\n",
        "#sama dengan\n",
        "print(\" \")\n",
        "for abjad in huruf[3:7]:\n",
        "#hasil akan berbentuk baris atau menurun karena memperjelas huruf apa saja yang ada pada[3:7]\n",
        "  print(abjad)\n",
        "#indeks 3 menjadi batas depan dan indeks 6 menjadi batas akhir"
      ],
      "metadata": {
        "colab": {
          "base_uri": "https://localhost:8080/"
        },
        "id": "Hir3rK3Kx3W2",
        "outputId": "6e42be04-ea0a-48e0-f881-187d4dd9ac58"
      },
      "execution_count": null,
      "outputs": [
        {
          "output_type": "stream",
          "name": "stdout",
          "text": [
            "('a', 'd', 's', 'e')\n",
            " \n",
            "a\n",
            "d\n",
            "s\n",
            "e\n"
          ]
        }
      ]
    },
    {
      "cell_type": "code",
      "source": [
        "huruf.count(\"s\")\n",
        "#untuk mengetahui jumlah data \"s\""
      ],
      "metadata": {
        "colab": {
          "base_uri": "https://localhost:8080/"
        },
        "id": "nfemjFcezkMa",
        "outputId": "dd3b5cf0-8291-4fa7-c1e3-288dd8b1daa7"
      },
      "execution_count": null,
      "outputs": [
        {
          "output_type": "execute_result",
          "data": {
            "text/plain": [
              "2"
            ]
          },
          "metadata": {},
          "execution_count": 21
        }
      ]
    },
    {
      "cell_type": "code",
      "source": [
        "huruf.append(\"i\")\n",
        "#error karena data pada tuples tidak dapat dirubah"
      ],
      "metadata": {
        "colab": {
          "base_uri": "https://localhost:8080/",
          "height": 165
        },
        "id": "MRdvFWAm0CfJ",
        "outputId": "7ea105aa-9d61-4d5d-d5e4-6e797283db3f"
      },
      "execution_count": null,
      "outputs": [
        {
          "output_type": "error",
          "ename": "AttributeError",
          "evalue": "ignored",
          "traceback": [
            "\u001b[0;31m---------------------------------------------------------------------------\u001b[0m",
            "\u001b[0;31mAttributeError\u001b[0m                            Traceback (most recent call last)",
            "\u001b[0;32m<ipython-input-22-7b9e216e4010>\u001b[0m in \u001b[0;36m<cell line: 1>\u001b[0;34m()\u001b[0m\n\u001b[0;32m----> 1\u001b[0;31m \u001b[0mhuruf\u001b[0m\u001b[0;34m.\u001b[0m\u001b[0mappend\u001b[0m\u001b[0;34m(\u001b[0m\u001b[0;34m\"i\"\u001b[0m\u001b[0;34m)\u001b[0m\u001b[0;34m\u001b[0m\u001b[0;34m\u001b[0m\u001b[0m\n\u001b[0m",
            "\u001b[0;31mAttributeError\u001b[0m: 'tuple' object has no attribute 'append'"
          ]
        }
      ]
    },
    {
      "cell_type": "code",
      "source": [
        "huruf.index(\"w\")\n",
        "#untuk mengetahui index suatu data"
      ],
      "metadata": {
        "colab": {
          "base_uri": "https://localhost:8080/"
        },
        "id": "YkF4UBYo0QmP",
        "outputId": "a31855e1-3fbf-4e4f-967d-95e63114580d"
      },
      "execution_count": null,
      "outputs": [
        {
          "output_type": "execute_result",
          "data": {
            "text/plain": [
              "7"
            ]
          },
          "metadata": {},
          "execution_count": 26
        }
      ]
    },
    {
      "cell_type": "code",
      "source": [
        "nama =(\"ni\",\"komang\",\"ari\", \"asih\")\n",
        "print(nama)\n",
        "print(nama[3])\n",
        "print(nama[2:3])\n",
        "#memotong tuples"
      ],
      "metadata": {
        "colab": {
          "base_uri": "https://localhost:8080/"
        },
        "id": "MFzSNxJn0xYL",
        "outputId": "b6c244ff-d463-4486-9ee4-251a7e4f9a63"
      },
      "execution_count": null,
      "outputs": [
        {
          "output_type": "stream",
          "name": "stdout",
          "text": [
            "('ni', 'komang', 'ari', 'asih')\n",
            "asih\n",
            "('ari',)\n"
          ]
        }
      ]
    },
    {
      "cell_type": "code",
      "source": [
        "nama =(\"ni\",\"komang\",\"ari\", \"asih\")\n",
        "#mengambil jumlah nama\n",
        "print(len(nama))\n",
        "#megambil panjang tuples"
      ],
      "metadata": {
        "colab": {
          "base_uri": "https://localhost:8080/"
        },
        "id": "Zz1EzwG2uRZ7",
        "outputId": "837f99f4-9e32-45b1-9cee-1b4850af0aa3"
      },
      "execution_count": null,
      "outputs": [
        {
          "output_type": "stream",
          "name": "stdout",
          "text": [
            "4\n"
          ]
        }
      ]
    },
    {
      "cell_type": "code",
      "source": [
        "hobi =(\"Aku suka bermain bulutangkis\")\n",
        "waktu =(\"sejak aku kecil\")\n",
        "gabungan = (hobi,waktu)\n",
        "print(gabungan)\n",
        "#menggabungkan tuples\n",
        "#penggunaan tuples bisa menggunakan tanda kurung seperti diatas bisa juga tidak\n",
        "print(\" \")\n",
        "hobi = \"Aku suka bermain bulutangkis\"\n",
        "waktu = \"sejak aku kecil\"\n",
        "gabungan = (hobi,waktu)\n",
        "print(gabungan)"
      ],
      "metadata": {
        "colab": {
          "base_uri": "https://localhost:8080/"
        },
        "id": "Lu23J8GXw5K2",
        "outputId": "136219b3-9255-4bc7-afcc-2388451e3bb3"
      },
      "execution_count": null,
      "outputs": [
        {
          "output_type": "stream",
          "name": "stdout",
          "text": [
            "('Aku suka bermain bulutangkis', 'sejak aku kecil')\n",
            " \n",
            "('Aku suka bermain bulutangkis', 'sejak aku kecil')\n"
          ]
        }
      ]
    },
    {
      "cell_type": "markdown",
      "source": [
        "# 5.18 ***Dictionaries***\n",
        "Dictionaries digunakan jika data nya terkait satu sama lain."
      ],
      "metadata": {
        "id": "k3Wp_d4fxx3-"
      }
    },
    {
      "cell_type": "code",
      "source": [
        "Identitas = {\n",
        "    \"Nama\" : \"Ariasih\",\n",
        "    \"Usia\" : 19,\n",
        "}\n",
        "print(Identitas[\"Nama\"])\n",
        "print(Identitas.get(\"Nama\"))\n",
        "print(Identitas.get(\"nama\"))#hasilnya tidak ada, karena tidak ada \"nama\" huruf depannya ditulis menggunakan kapital\n",
        "print(Identitas[\"Usia\"])\n",
        "print(Identitas.get(\"tanggal lahir\"))#hasilnya tidak ada, karena tidak ada variabrel tanggal lahir\n",
        "print(Identitas.get(\"tanggal lahir\", \"16-10-2003\"))#mencoba menambahkan tanggal lahir\n",
        "print(Identitas)\n",
        "print(Identitas.get(\"NIM\"))#tidak ada, karena tidak ada variabel nim\n",
        "print(Identitas.get(\"NIM\", \"2208541002\"))#mencoba menambahkan nim\n",
        "print(Identitas)\n",
        "#bermaksud untuk menambah nilai, tapi ternyata tidak bisa"
      ],
      "metadata": {
        "colab": {
          "base_uri": "https://localhost:8080/"
        },
        "id": "cAswdXg83oET",
        "outputId": "daa7af47-ea26-4649-bc7b-48197f8245c0"
      },
      "execution_count": null,
      "outputs": [
        {
          "output_type": "stream",
          "name": "stdout",
          "text": [
            "Ariasih\n",
            "Ariasih\n",
            "None\n",
            "19\n",
            "None\n",
            "16-10-2003\n",
            "{'Nama': 'Ariasih', 'Usia': 19}\n",
            "None\n",
            "2208541002\n",
            "{'Nama': 'Ariasih', 'Usia': 19}\n"
          ]
        }
      ]
    },
    {
      "cell_type": "code",
      "source": [
        "#menambah dan mengubah nilai\n",
        "mahasiswa = {\n",
        "  'nama'  : 'Ariasih',\n",
        "  'kelas' : 'A',\n",
        "  'umur'  : 19,\n",
        "  'alamat': 'Jl. nin aja dulu',\n",
        "}\n",
        "#menambah nilai\n",
        "#memasukkan nilai yang ingin ditambahkan, lalu program di print\n",
        "mahasiswa['nim'] = '2208541002'\n",
        "print(mahasiswa)\n",
        "print(\" \")\n",
        "#mengubah nilai\n",
        "#masukkan data yang ingin diubah\n",
        "mahasiswa[\"alamat\"] = 'Jl. Goa Gong'\n",
        "print(mahasiswa)"
      ],
      "metadata": {
        "colab": {
          "base_uri": "https://localhost:8080/"
        },
        "id": "jQQ8DFikJTcP",
        "outputId": "272f3277-2e8f-4fdf-d6c9-0d8ce9c6ee4a"
      },
      "execution_count": null,
      "outputs": [
        {
          "output_type": "stream",
          "name": "stdout",
          "text": [
            "{'nama': 'Ariasih', 'kelas': 'A', 'umur': 19, 'alamat': 'Jl. nin aja dulu', 'nim': '2208541002'}\n",
            " \n",
            "{'nama': 'Ariasih', 'kelas': 'A', 'umur': 19, 'alamat': 'Jl. Goa Gong', 'nim': '2208541002'}\n"
          ]
        }
      ]
    },
    {
      "cell_type": "code",
      "source": [
        "#menghapus nilai\n",
        "#Untuk menghapus nilai dictionary ada 2 cara yaitu menggunakan statement del atau dengan fungsi pop()\n",
        "mahasiswa = {\n",
        "  'nama'  : 'Ariasih',\n",
        "  'kelas' : 'A',\n",
        "  'umur'  : 19,\n",
        "  'alamat': 'Jl. Goa Gong',\n",
        "}\n",
        "\n",
        "# dengan statement del\n",
        "del mahasiswa['nama']\n",
        "print(mahasiswa)\n",
        "# dengan fungsi pop()\n",
        "mahasiswa.pop('kelas')\n",
        "print(mahasiswa)\n"
      ],
      "metadata": {
        "colab": {
          "base_uri": "https://localhost:8080/"
        },
        "id": "-w7YOFTbKlyU",
        "outputId": "679ff5b9-57ff-4a50-964a-41a71346192c"
      },
      "execution_count": null,
      "outputs": [
        {
          "output_type": "stream",
          "name": "stdout",
          "text": [
            "{'kelas': 'A', 'umur': 19, 'alamat': 'Jl. Goa Gong'}\n",
            "{'umur': 19, 'alamat': 'Jl. Goa Gong'}\n"
          ]
        }
      ]
    },
    {
      "cell_type": "code",
      "source": [
        "#mengetahui banyaknya nilai yang terdapat pada dictionary dengan menggunakan fungsi len()\n",
        "mahasiswa = {\n",
        "  'nama'  : 'Ariasih',\n",
        "  'kelas' : 'A',\n",
        "  'umur'  : 19,\n",
        "  'alamat': 'Jl. nin aja dulu',\n",
        "}\n",
        "print('mahasiswa: {}'.format(len(mahasiswa)))"
      ],
      "metadata": {
        "colab": {
          "base_uri": "https://localhost:8080/"
        },
        "id": "853d3obONaxN",
        "outputId": "e490c083-07ac-4657-eaef-d4bde6f5bab0"
      },
      "execution_count": null,
      "outputs": [
        {
          "output_type": "stream",
          "name": "stdout",
          "text": [
            "mahasiswa: 4\n"
          ]
        }
      ]
    },
    {
      "cell_type": "code",
      "source": [
        "#mengubah angka menjadi sebutan bilangan tersebut\n",
        "Angka = {\n",
        "    \"0\" : \"Nol\",\n",
        "    \"1\" : \"Satu\",\n",
        "    \"2\" : \"Dua\",\n",
        "    \"3\" : \"Tiga\",\n",
        "    \"4\" : \"Empat\",\n",
        "    \"5\" : \"Lima\",\n",
        "    \"6\" : \"Enam\",\n",
        "    \"7\" : \" Tujuh\",\n",
        "    \"8\" : \"Delapan\"\n",
        "}\n",
        "NIM = input(\"NIM saya adalah \" )\n",
        "nomor_Angka = \" \"\n",
        "for isi in NIM:\n",
        "  nomor_Angka += Angka.get(isi) + \" \"\n",
        "print(nomor_Angka)"
      ],
      "metadata": {
        "id": "hcpAWcfGFiWS",
        "colab": {
          "base_uri": "https://localhost:8080/"
        },
        "outputId": "c66c88a8-a6b1-4f92-802b-7a8736f9e1b2"
      },
      "execution_count": null,
      "outputs": [
        {
          "output_type": "stream",
          "name": "stdout",
          "text": [
            "NIM saya adalah 2208541002\n",
            " Dua Dua Nol Delapan Lima Empat Satu Nol Nol Dua \n"
          ]
        }
      ]
    },
    {
      "cell_type": "markdown",
      "source": [
        "# 5.19 ***Fungsi dalam Python***\n",
        "Jenis fungsi pada Python seperti fungsi input, print, len, range, dll. Pada dasarnya fungsi dibentuk untuk menghindari pengulangan pembuatan program secara manual."
      ],
      "metadata": {
        "id": "0yIMlY3HXlMQ"
      }
    },
    {
      "cell_type": "code",
      "source": [
        "#fungsi dalam phyton\n",
        "def full_name(first_name, last_name):\n",
        "  print(f\"Nama lengkap adalah {first_name} {last_name}\")\n",
        "#mendefinisikan program yang akan dibuat dan hasil yang dikeluarkan"
      ],
      "metadata": {
        "id": "JpTCbDpP3k5U"
      },
      "execution_count": null,
      "outputs": []
    },
    {
      "cell_type": "code",
      "source": [
        "def full_name(first_name, last_name):\n",
        "  print(f\"Nama lengkap adalah {first_name} {last_name}\")\n",
        "first_name = input(\"Hai namaku \")#input nama depan\n",
        "last_name = input(\"Nama belakangku \")#input nama belakang\n",
        "full_name(first_name,last_name)"
      ],
      "metadata": {
        "colab": {
          "base_uri": "https://localhost:8080/"
        },
        "id": "R_vOXcYK7CYY",
        "outputId": "7496fa7d-a572-479a-af77-0888f2f0709d"
      },
      "execution_count": null,
      "outputs": [
        {
          "output_type": "stream",
          "name": "stdout",
          "text": [
            "Hai namaku Arii\n",
            "Nama belakangku asih\n",
            "Nama lengkap adalah Arii asih\n"
          ]
        }
      ]
    },
    {
      "cell_type": "code",
      "source": [
        "#menghitung luas persegi panjang\n",
        "#rumus luas persegi adalah SxS\n",
        "sisi = input(\"panjang sisi persegi adalah \")\n",
        "luas = int(sisi)* int(sisi)\n",
        "print(luas)\n",
        "#bisa juga tanpa definisi, karena tadi menggunakan definisi hasilnya error maka menggunakan fungsi print"
      ],
      "metadata": {
        "colab": {
          "base_uri": "https://localhost:8080/"
        },
        "id": "_mm1JJ5mDLDb",
        "outputId": "bfe38eeb-b1de-45ff-98a3-86d5db3ba1e2"
      },
      "execution_count": null,
      "outputs": [
        {
          "output_type": "stream",
          "name": "stdout",
          "text": [
            "panjang sisi persegi adalah 3\n",
            "9\n"
          ]
        }
      ]
    },
    {
      "cell_type": "markdown",
      "source": [
        "**5.19.1 Tugas Fungsi pada Python**\n",
        "\n",
        "Ada dua jenis tugas fungsi pada Python yaitu:\n",
        " Menjalankan perintah.\n",
        " Menampilkan hasil perhitungan"
      ],
      "metadata": {
        "id": "pPQ5TnSHQtSb"
      }
    },
    {
      "cell_type": "code",
      "source": [
        "#Tugas Fungsi pada Python\n",
        "#Menjalankan perintah\n",
        "def waktu_sampai(jarak,kecepatan):\n",
        "  waktu = jarak/kecepatan\n",
        "  print(waktu)\n",
        "#melakukan print dari hasil pemrosesan secara langsung di dalam fungsinya.\n",
        "jarak = input(\" \")\n",
        "kecepatan = input(\" \")\n",
        "waktu_sampai = int(jarak)/ int(kecepatan)\n",
        "print(waktu_sampai)\n",
        "\n",
        "#menampilkan hasil perhitungan\n",
        "print(\" \")\n",
        "def waktu_sampai(jarak,kecepatan):\n",
        "  waktu = jarak/kecepatan\n",
        "  return (waktu)\n",
        "#melakukan print pada saat pemanggilannya.\n",
        "jarak = input(\" \")\n",
        "kecepatan = input(\" \")\n",
        "waktu_sampai = int(jarak)/ int(kecepatan)\n",
        "print(waktu_sampai)#pemanggilan fungsi"
      ],
      "metadata": {
        "colab": {
          "base_uri": "https://localhost:8080/"
        },
        "id": "ycuzofkHeDj-",
        "outputId": "a1e87cc4-faad-4a86-9aec-1f59194374bf"
      },
      "execution_count": null,
      "outputs": [
        {
          "output_type": "stream",
          "name": "stdout",
          "text": [
            " 100\n",
            " 35\n",
            "2.857142857142857\n",
            " \n",
            " 100\n",
            " 35\n",
            "2.857142857142857\n"
          ]
        }
      ]
    },
    {
      "cell_type": "code",
      "source": [
        "#luas segitiga\n",
        "def luas_segitiga(alas, tinggi):\n",
        "    luas = (alas * tinggi) / 2\n",
        "    print(luas)\n",
        "alas =input(\"alas suatu segitiga adalah \")\n",
        "tinggi = input(\"tinggi dari suatu segitiga adalah \")\n",
        "luas = (int(alas)* int(tinggi) / 2)\n",
        "print(\"luas suatu segitiga adalah \", luas)\n",
        "\n",
        "print(\" \")\n",
        "#pemanfaatan fungsi return (melakukan print saat pemanggilan) untuk mencari volume \n",
        "# rumus: sisi x sisi\n",
        "def luas_persegi(sisi):\n",
        "    luas = sisi * sisi\n",
        "    return luas\n",
        "# rumus: sisi x sisi x sisi\n",
        "def volume_persegi(sisi):\n",
        "    volume = luas_persegi(sisi) * sisi\n",
        "\n",
        "sisi = input(\"panjang sisi persegi adalah \")\n",
        "luas_persegi = int(sisi)* int(sisi)\n",
        "volume_persegi = (luas_persegi* int(sisi))\n",
        "print(volume_persegi)"
      ],
      "metadata": {
        "colab": {
          "base_uri": "https://localhost:8080/"
        },
        "id": "9CBgtIgjpyoJ",
        "outputId": "dd3ce2ec-3a7f-4697-de88-f61eff364436"
      },
      "execution_count": null,
      "outputs": [
        {
          "output_type": "stream",
          "name": "stdout",
          "text": [
            "alas suatu segitiga adalah 8\n",
            "tinggi dari suatu segitiga adalah 12\n",
            "luas suatu segitiga adalah  48.0\n",
            " \n",
            "panjang sisi persegi adalah 3\n",
            "27\n"
          ]
        }
      ]
    },
    {
      "cell_type": "code",
      "source": [
        "#latihan fungsi dalam phyton\n",
        "jenis_bidang = input(\"Jenis bidang adalah \")\n",
        "if jenis_bidang.upper()==\"SEGITIGA\":\n",
        "  alas = float(input(\"panjang alasnya adalah \"))\n",
        "  tinggi = float(input(\"tinggi segitiga ini adalah \"))\n",
        "  luas = (int(alas)*int(tinggi)/2)\n",
        "  print(f\"luas {jenis_bidang} adalah {luas}\")\n",
        "elif jenis_bidang.upper()==\"PERSEGI PANJANG\":\n",
        "  panjang = float(input(\"panjangnya adalah \"))\n",
        "  lebar = float(input(\"lebarnya adalah \"))\n",
        "  luas = luas_persegi_panjang(panjang,lebar)\n",
        "  print(f\"luas {jenis_bidang} adalah {luas}\")\n",
        "else:\n",
        "  print(f\"Maaf bidang {jenis_bidang} yang dimasukkan tidak ada.\")\n",
        "  print(\"pilihan cuman segitiga dan persegi panjang\")\n",
        "  print(\"terimakasih\")\n",
        "\n",
        "print(\" \")\n",
        "jenis_bidang = input(\"Jenis bidang adalah \")\n",
        "if jenis_bidang.upper()==\"SEGITIGA\":\n",
        "  alas = float(input(\"panjang alasnya adalah \"))\n",
        "  tinggi = float(input(\"tinggi segitiga ini adalah \"))\n",
        "  luas = luas_segitiga(alas,tinggi)\n",
        "  print(f\"luas {jenis_bidang} adalah {luas}\")\n",
        "elif jenis_bidang.upper()==\"PERSEGI PANJANG\":\n",
        "  panjang = float(input(\"panjangnya adalah \"))\n",
        "  lebar = float(input(\"lebarnya adalah \"))\n",
        "  luas = luas_persegi_panjang(panjang,lebar)\n",
        "  print(f\"luas {jenis_bidang} adalah {luas}\")\n",
        "else:\n",
        "  print(f\"Maaf bidang {jenis_bidang} yang dimasukkan tidak ada.\")\n",
        "  print(\"pilihan cuman segitiga dan persegi panjang\")\n",
        "  print(\"terimakasih\")"
      ],
      "metadata": {
        "colab": {
          "base_uri": "https://localhost:8080/"
        },
        "id": "-xZ5AF3Mu4FV",
        "outputId": "46519cec-fbc9-4f2f-b82f-5715103ea970"
      },
      "execution_count": null,
      "outputs": [
        {
          "output_type": "stream",
          "name": "stdout",
          "text": [
            "Jenis bidang adalah segitiga\n",
            "panjang alasnya adalah 5\n",
            "tinggi segitiga ini adalah 10\n",
            "luas segitiga adalah 25.0\n",
            " \n",
            "Jenis bidang adalah persegi\n",
            "Maaf bidang persegi yang dimasukkan tidak ada.\n",
            "pilihan cuman segitiga dan persegi panjang\n",
            "terimakasih\n"
          ]
        }
      ]
    },
    {
      "cell_type": "markdown",
      "source": [
        "# 5.20 ***Numpy***\n",
        "Numpy merupakan salah satu Library dalam Python yang memiliki keunggulan\n",
        "dalam perhitungan menggunakan vektor dam matrik dalam berbagai dimensi.\n",
        "Indeks dimulai dari 0"
      ],
      "metadata": {
        "id": "ROCVew2o0s19"
      }
    },
    {
      "cell_type": "code",
      "source": [
        "import numpy\n",
        "#memanggil library numpy"
      ],
      "metadata": {
        "id": "9xGM-X8B_YG8"
      },
      "execution_count": null,
      "outputs": []
    },
    {
      "cell_type": "markdown",
      "source": [
        "**5.20.1 Perintah Dasar pada Numpy**"
      ],
      "metadata": {
        "id": "WOwQ_HoqVuSp"
      }
    },
    {
      "cell_type": "code",
      "source": [
        "#fungsi pemanggil numpy\n",
        "a = numpy.array([0,1,2,3,4])\n",
        "print(a)\n",
        "print(\" \")\n",
        "b = numpy.array([[5,6,7,8], [9,10,11,12]])\n",
        "print(b)\n",
        "print(\" \")\n",
        "c = numpy.array([[[0,1,2,3,4],[5,6,7,8,9]],\n",
        "                [[8,9,10,11,12],[2,4,5,7,6]],\n",
        "                [[1,2,3,4,5], [6,7,8,9,10]]])\n",
        "print(c)"
      ],
      "metadata": {
        "colab": {
          "base_uri": "https://localhost:8080/"
        },
        "id": "3pwDp-dx07g8",
        "outputId": "c258a6b6-7e4a-4d63-f7a9-6c412a73fb54"
      },
      "execution_count": null,
      "outputs": [
        {
          "output_type": "stream",
          "name": "stdout",
          "text": [
            "[0 1 2 3 4]\n",
            " \n",
            "[[ 5  6  7  8]\n",
            " [ 9 10 11 12]]\n",
            " \n",
            "[[list([0, 1, 2, 3, 4]) list([5, 6, 7, 8, 9])]\n",
            " [list([9, 10, 11, 12]) list([2, 4, 5, 7, 6])]\n",
            " [list([1, 2, 3, 4, 5]) list([6, 7, 8, 9, 10])]]\n"
          ]
        },
        {
          "output_type": "stream",
          "name": "stderr",
          "text": [
            "<ipython-input-18-0f988c9f801f>:13: VisibleDeprecationWarning: Creating an ndarray from ragged nested sequences (which is a list-or-tuple of lists-or-tuples-or ndarrays with different lengths or shapes) is deprecated. If you meant to do this, you must specify 'dtype=object' when creating the ndarray.\n",
            "  c = numpy.array([[[0,1,2,3,4],[5,6,7,8,9]],\n"
          ]
        }
      ]
    },
    {
      "cell_type": "code",
      "source": [
        "#fungsi untuk mengetahui dimensi pada array\n",
        "print(a.ndim)\n",
        "print(b.ndim)\n",
        "print(c.ndim)\n",
        "#fungsi untuk mengetahui ukuran variabel atau panjang dimensi\n",
        "print(a.shape)\n",
        "print(b.shape)\n",
        "print(c.shape)"
      ],
      "metadata": {
        "colab": {
          "base_uri": "https://localhost:8080/"
        },
        "id": "-VB2jKMO5VSX",
        "outputId": "236502bd-fe46-4ead-f9b4-6d60c7a8f437"
      },
      "execution_count": null,
      "outputs": [
        {
          "output_type": "stream",
          "name": "stdout",
          "text": [
            "1\n",
            "2\n",
            "2\n",
            "(5,)\n",
            "(2, 4)\n",
            "(3, 2)\n"
          ]
        }
      ]
    },
    {
      "cell_type": "code",
      "source": [
        "import numpy"
      ],
      "metadata": {
        "id": "kRB6NaCp-m7b"
      },
      "execution_count": null,
      "outputs": []
    },
    {
      "cell_type": "markdown",
      "source": [
        "**5.20.2 Memanggil Anggota, Kolom dan Baris dengan Numpy**"
      ],
      "metadata": {
        "id": "1J-IAHydVqAI"
      }
    },
    {
      "cell_type": "code",
      "source": [
        "n = numpy.array([[5,6,7,8], [9,10,11,12]])\n",
        "print(b)\n",
        "\n",
        "print(n[0,3])#ingin mendapatkan data pertama dan kolom ke-3\n",
        "\n",
        "print(n[1,2])#ingin mendapatkan data kedua dan kolom ke-2\n",
        "\n",
        "print(n[1,:])#ingin mendapatkan data kedua\n",
        "\n",
        "print(n[ :,2])#ingin mendapatkan indeks kedua pada data pertama dan kedua\n",
        "\n",
        "print(n[1,1:3])#ingin mendapatkan data kedua indeks ke 1 sampai 3\n",
        "\n",
        "print(n[0,0:3:2])#sama seperti diatas, namun angka 2 paling belakang mendefinisikan loncat 2 kali\n",
        "\n",
        "n[0,0] = 20 #mengubah indeks pada data pertama\n",
        "print(n)\n"
      ],
      "metadata": {
        "colab": {
          "base_uri": "https://localhost:8080/"
        },
        "id": "WYmvMhKZ96fk",
        "outputId": "dca588ef-eaee-4216-cf0e-24d7404086de"
      },
      "execution_count": null,
      "outputs": [
        {
          "output_type": "stream",
          "name": "stdout",
          "text": [
            "15\n",
            "8\n",
            "11\n",
            "[ 9 10 11 12]\n",
            "[ 7 11]\n",
            "[10 11]\n",
            "[5 7]\n",
            "[[20  6  7  8]\n",
            " [ 9 10 11 12]]\n"
          ]
        }
      ]
    },
    {
      "cell_type": "markdown",
      "source": [
        "**5.20.3 Matrix pada Numpy**"
      ],
      "metadata": {
        "id": "dyAePcUpViFp"
      }
    },
    {
      "cell_type": "code",
      "source": [
        "#cara membuat matriks\n",
        "o = numpy.zeros((10,10))#matriks semua entrynya 0\n",
        "print(o)\n",
        "print(\" \")\n",
        "p = numpy.ones((3,3))#matriks semua entrynya 1\n",
        "print(p)\n",
        "print(\" \")\n",
        "q = numpy.identity(4)#membuat matriks identitas\n",
        "print(q)\n",
        "print(\" \")\n",
        "r = numpy.full((4,5),6)#matriks 4x5 dengan entrynya semua 6\n",
        "print(r)\n",
        "print(\" \")\n",
        "s = numpy.random.rand(4,4)\n",
        "print(s)\n",
        "print(\" \")\n",
        "t = numpy.random.randint(1,5, size=(3,3))#matriks random dengan nilai entry yang sudah ditentukan\n",
        "print(t)\n",
        "print(\" \")\n",
        "#membuat matriks dengan menggabungkan 2 array\n",
        "a1 = numpy.array([1,2,3])\n",
        "a2 = numpy.array([4,5,6])\n",
        "matriks = numpy.array([a1,a2])\n",
        "print(matriks)"
      ],
      "metadata": {
        "colab": {
          "base_uri": "https://localhost:8080/"
        },
        "id": "htgm2YnNM7vA",
        "outputId": "72be5fc7-195b-4fe0-d073-a8eb67f1cb19"
      },
      "execution_count": null,
      "outputs": [
        {
          "output_type": "stream",
          "name": "stdout",
          "text": [
            "[[0. 0. 0. 0. 0. 0. 0. 0. 0. 0.]\n",
            " [0. 0. 0. 0. 0. 0. 0. 0. 0. 0.]\n",
            " [0. 0. 0. 0. 0. 0. 0. 0. 0. 0.]\n",
            " [0. 0. 0. 0. 0. 0. 0. 0. 0. 0.]\n",
            " [0. 0. 0. 0. 0. 0. 0. 0. 0. 0.]\n",
            " [0. 0. 0. 0. 0. 0. 0. 0. 0. 0.]\n",
            " [0. 0. 0. 0. 0. 0. 0. 0. 0. 0.]\n",
            " [0. 0. 0. 0. 0. 0. 0. 0. 0. 0.]\n",
            " [0. 0. 0. 0. 0. 0. 0. 0. 0. 0.]\n",
            " [0. 0. 0. 0. 0. 0. 0. 0. 0. 0.]]\n",
            " \n",
            "[[1. 1. 1.]\n",
            " [1. 1. 1.]\n",
            " [1. 1. 1.]]\n",
            " \n",
            "[[1. 0. 0. 0.]\n",
            " [0. 1. 0. 0.]\n",
            " [0. 0. 1. 0.]\n",
            " [0. 0. 0. 1.]]\n",
            " \n",
            "[[6 6 6 6 6]\n",
            " [6 6 6 6 6]\n",
            " [6 6 6 6 6]\n",
            " [6 6 6 6 6]]\n",
            " \n",
            "[[0.54347056 0.30503471 0.63506386 0.80892187]\n",
            " [0.28370824 0.51596    0.55720702 0.66212675]\n",
            " [0.62788205 0.99270393 0.72427549 0.94775834]\n",
            " [0.72634564 0.55158369 0.23336117 0.98101287]]\n",
            " \n",
            "[[1 1 2]\n",
            " [1 2 2]\n",
            " [3 3 4]]\n",
            " \n",
            "[[1 2 3]\n",
            " [4 5 6]]\n"
          ]
        }
      ]
    },
    {
      "cell_type": "markdown",
      "source": [
        "**5.20.4 Copy pada Numpy**\n",
        "\n",
        "Saat anggota variabel baru dirubah,\n",
        "dampaknya juga akan merubah variabel asal. Untuk menghindari perubahan\n",
        "variabel awal yang tidak dikehendaki maka diperlukan perintah copy "
      ],
      "metadata": {
        "id": "29e4tuR4VWxl"
      }
    },
    {
      "cell_type": "code",
      "source": [
        "A = numpy.array([1,2,3,4,5])\n",
        "print(A)\n",
        "print(\" \")\n",
        "B = A #mendefinisikan B sama dengan A\n",
        "print(B)\n",
        "print(\" \")\n",
        "B[0] = 10 #mengubah indeks ke 0 menjadi 10\n",
        "print(B)\n",
        "print(\" \")\n",
        "print(A)#definisi B sama dengan A tidak berubah\n",
        "print(\" bandingkan dengan yang dibawah ini\")\n",
        "C = numpy.array([1,2,3,4,5])\n",
        "print(C)\n",
        "print(\" \")\n",
        "D = C.copy()\n",
        "print(D)\n",
        "print(\" \")\n",
        "D[0] = 10\n",
        "print(D)\n",
        "print(\" \")\n",
        "print(C)#nilai C tidak akan berubah, karena C tidak sama dengan D"
      ],
      "metadata": {
        "colab": {
          "base_uri": "https://localhost:8080/"
        },
        "id": "xKnylkdTV4gf",
        "outputId": "884c9c1f-6d0a-4ae0-b769-bbf1eac833cd"
      },
      "execution_count": null,
      "outputs": [
        {
          "output_type": "stream",
          "name": "stdout",
          "text": [
            "[1 2 3 4 5]\n",
            " \n",
            "[1 2 3 4 5]\n",
            " \n",
            "[10  2  3  4  5]\n",
            " \n",
            "[10  2  3  4  5]\n",
            " bandingkan dengan yang dibawah ini\n",
            "[1 2 3 4 5]\n",
            " \n",
            "[1 2 3 4 5]\n",
            " \n",
            "[10  2  3  4  5]\n",
            " \n",
            "[1 2 3 4 5]\n"
          ]
        }
      ]
    },
    {
      "cell_type": "markdown",
      "source": [
        "**5.20.5 Operasi Matematika pada Numpy**"
      ],
      "metadata": {
        "id": "JUNdx5bjY7qU"
      }
    },
    {
      "cell_type": "code",
      "source": [
        "v = numpy.array([1,2,3,4,0])\n",
        "print(v-2)#pengurangan\n",
        "print(v+4)#penjumlahan\n",
        "print(v*2)#perkalian\n",
        "print(v/2)#pembagian\n",
        "print(v**2)#perpangkatan\n",
        "print(\" \")\n",
        "print(\" trigonometri\")\n",
        "cos=  numpy.cos(v)\n",
        "print(cos)\n",
        "sin = numpy.sin(v)\n",
        "print(sin)\n",
        "cosh = numpy.cosh(v)\n",
        "print(cosh)\n",
        "sinh = numpy.sinh(v)\n",
        "print(sinh)\n",
        "tan = numpy.tan(v)\n",
        "print(tan)\n",
        "tanh = numpy.tanh(v)\n",
        "print(tanh)\n",
        "sqrt = numpy.sqrt(v)\n",
        "print(sqrt)\n"
      ],
      "metadata": {
        "colab": {
          "base_uri": "https://localhost:8080/"
        },
        "id": "MjCY8acLY_Hr",
        "outputId": "bc3b4771-0b3a-441c-8e59-ceb30a3b79a3"
      },
      "execution_count": null,
      "outputs": [
        {
          "output_type": "stream",
          "name": "stdout",
          "text": [
            "[-1  0  1  2 -2]\n",
            "[5 6 7 8 4]\n",
            "[2 4 6 8 0]\n",
            "[0.5 1.  1.5 2.  0. ]\n",
            "[ 1  4  9 16  0]\n",
            " \n",
            " trigonometri\n",
            "[ 0.54030231 -0.41614684 -0.9899925  -0.65364362  1.        ]\n",
            "[ 0.84147098  0.90929743  0.14112001 -0.7568025   0.        ]\n",
            "[ 1.54308063  3.76219569 10.067662   27.30823284  1.        ]\n",
            "[ 1.17520119  3.62686041 10.01787493 27.2899172   0.        ]\n",
            "[ 1.55740772 -2.18503986 -0.14254654  1.15782128  0.        ]\n",
            "[0.76159416 0.96402758 0.99505475 0.9993293  0.        ]\n",
            "[1.         1.41421356 1.73205081 2.         0.        ]\n"
          ]
        }
      ]
    },
    {
      "cell_type": "code",
      "source": [
        "#operasi pada 2 matriks\n",
        "mat1 = numpy.array([1,2,3,4,5])\n",
        "mat2 = numpy.array([5,6,7,8,9])\n",
        "print(mat1-mat2)\n",
        "print(mat1+mat2)\n",
        "print(mat2**mat1)"
      ],
      "metadata": {
        "colab": {
          "base_uri": "https://localhost:8080/"
        },
        "id": "L1Nch8mMeIip",
        "outputId": "93af2d44-896d-4b70-97dd-84ea11008bb2"
      },
      "execution_count": null,
      "outputs": [
        {
          "output_type": "stream",
          "name": "stdout",
          "text": [
            "[-4 -4 -4 -4 -4]\n",
            "[ 6  8 10 12 14]\n",
            "[    5    36   343  4096 59049]\n"
          ]
        }
      ]
    },
    {
      "cell_type": "markdown",
      "source": [
        "**5.20.6 Perkalian Matrik pada Numpy**\n",
        "\n",
        "Perkalian matrik pada Numpy dapat menggunakan perintah matmul"
      ],
      "metadata": {
        "id": "QhOWB6PjfEsz"
      }
    },
    {
      "cell_type": "code",
      "source": [
        "u1 = numpy.array([[1,2,3,4,5],[0,1,2,3,4]])\n",
        "print(u1)\n",
        "print(\" \")\n",
        "u2 = numpy.array([[5,6,7,8,9], [1,5,6,7,8]])\n",
        "print(u2)\n",
        "print(\" \")\n",
        "u3 = u1*u2\n",
        "print(u3)\n",
        "print(\" \")\n",
        "#ukuran matrik yang akan dikalikan harus sesuai dengan persyaratan\n",
        "u4 = numpy.matmul(u1,u2) #sedangkam matriks ini tidak memenuhi syarat\n",
        "print(u4)"
      ],
      "metadata": {
        "colab": {
          "base_uri": "https://localhost:8080/",
          "height": 373
        },
        "id": "h8ZyZ5Txf2jk",
        "outputId": "b5377fef-67b8-4fb2-eb5a-1fbcaecb22b6"
      },
      "execution_count": null,
      "outputs": [
        {
          "output_type": "stream",
          "name": "stdout",
          "text": [
            "[[1 2 3 4 5]\n",
            " [0 1 2 3 4]]\n",
            " \n",
            "[[5 6 7 8 9]\n",
            " [1 5 6 7 8]]\n",
            " \n",
            "[[ 5 12 21 32 45]\n",
            " [ 0  5 12 21 32]]\n",
            " \n"
          ]
        },
        {
          "output_type": "error",
          "ename": "ValueError",
          "evalue": "ignored",
          "traceback": [
            "\u001b[0;31m---------------------------------------------------------------------------\u001b[0m",
            "\u001b[0;31mValueError\u001b[0m                                Traceback (most recent call last)",
            "\u001b[0;32m<ipython-input-6-24bd24492d40>\u001b[0m in \u001b[0;36m<cell line: 11>\u001b[0;34m()\u001b[0m\n\u001b[1;32m      9\u001b[0m \u001b[0mprint\u001b[0m\u001b[0;34m(\u001b[0m\u001b[0;34m\" \"\u001b[0m\u001b[0;34m)\u001b[0m\u001b[0;34m\u001b[0m\u001b[0;34m\u001b[0m\u001b[0m\n\u001b[1;32m     10\u001b[0m \u001b[0;31m#ukuran matrik yang akan dikalikan harus sesuai dengan persyaratan\u001b[0m\u001b[0;34m\u001b[0m\u001b[0;34m\u001b[0m\u001b[0m\n\u001b[0;32m---> 11\u001b[0;31m \u001b[0mu4\u001b[0m \u001b[0;34m=\u001b[0m \u001b[0mnumpy\u001b[0m\u001b[0;34m.\u001b[0m\u001b[0mmatmul\u001b[0m\u001b[0;34m(\u001b[0m\u001b[0mu1\u001b[0m\u001b[0;34m,\u001b[0m\u001b[0mu2\u001b[0m\u001b[0;34m)\u001b[0m \u001b[0;31m#sedangkam matriks ini tidak memenuhi syarat\u001b[0m\u001b[0;34m\u001b[0m\u001b[0;34m\u001b[0m\u001b[0m\n\u001b[0m\u001b[1;32m     12\u001b[0m \u001b[0mprint\u001b[0m\u001b[0;34m(\u001b[0m\u001b[0mu4\u001b[0m\u001b[0;34m)\u001b[0m\u001b[0;34m\u001b[0m\u001b[0;34m\u001b[0m\u001b[0m\n",
            "\u001b[0;31mValueError\u001b[0m: matmul: Input operand 1 has a mismatch in its core dimension 0, with gufunc signature (n?,k),(k,m?)->(n?,m?) (size 2 is different from 5)"
          ]
        }
      ]
    },
    {
      "cell_type": "code",
      "source": [
        "#penggunaan fungsi matmul\n",
        "A1 = numpy.array ([[5, 0],\n",
        "                  [0, 5]])\n",
        "B1 = numpy.array ([5, 2])\n",
        "C1 = numpy.matmul(A1,B1)\n",
        "print(C1)\n",
        "print(\" \")\n",
        "#perbandingannya dibandingkan kali biasa\n",
        "D1 = A1*B1\n",
        "print(D1)"
      ],
      "metadata": {
        "colab": {
          "base_uri": "https://localhost:8080/"
        },
        "id": "_jDnYE8E7S5D",
        "outputId": "35bd51f5-06c7-4284-de7c-04d038993be0"
      },
      "execution_count": null,
      "outputs": [
        {
          "output_type": "stream",
          "name": "stdout",
          "text": [
            "[25 10]\n",
            " \n",
            "[[25  0]\n",
            " [ 0 10]]\n"
          ]
        }
      ]
    },
    {
      "cell_type": "markdown",
      "source": [
        "**5.20.7 min, max dan sum pada Numpy**\n",
        "\n",
        "Digunakan untuk mengetahui nilai\n",
        "minimum, maksimum dan penjumlahan"
      ],
      "metadata": {
        "id": "GpCKmFbN89lH"
      }
    },
    {
      "cell_type": "code",
      "source": [
        "a = numpy.array([[1,2,3,4],\n",
        "                [5,6,7,8],\n",
        "                [9,1,2,4]])\n",
        "print(a)\n",
        "print(\" \")\n",
        "b = numpy.min(a)#mencari nilai minimum\n",
        "print(b)\n",
        "print(\" \")\n",
        "c = numpy.min(a,axis=0)\n",
        "print(c)\n",
        "print(\" \")\n",
        "d = numpy.min(a,axis=1)\n",
        "print(d)\n",
        "print(\" \")\n",
        "e = numpy.max(a)#mencari nilai maximum\n",
        "print(e)\n",
        "print(\" \")\n",
        "f = numpy.max(a,axis=0)\n",
        "print(f)\n",
        "print(\" \")\n",
        "g = numpy.max(a,axis=1)\n",
        "print(g)\n",
        "print(\" \")\n",
        "h = numpy.sum(a)#penjumlahan\n",
        "print(h)\n",
        "print(\" \")\n",
        "i = numpy.sum(a,axis=0)\n",
        "print(i)\n",
        "print(\" \")\n",
        "j = numpy.sum(a,axis=1)\n",
        "print(j)"
      ],
      "metadata": {
        "colab": {
          "base_uri": "https://localhost:8080/"
        },
        "id": "t--AGwOk9X_L",
        "outputId": "b39ff3c5-f59b-4d3c-f92c-4d89af6191f6"
      },
      "execution_count": null,
      "outputs": [
        {
          "output_type": "stream",
          "name": "stdout",
          "text": [
            "[[1 2 3 4]\n",
            " [5 6 7 8]\n",
            " [9 1 2 4]]\n",
            " \n",
            "1\n",
            " \n",
            "[1 1 2 4]\n",
            " \n",
            "[1 5 1]\n",
            " \n",
            "9\n",
            " \n",
            "[9 6 7 8]\n",
            " \n",
            "[4 8 9]\n",
            " \n",
            "52\n",
            " \n",
            "[15  9 12 16]\n",
            " \n",
            "[10 26 16]\n"
          ]
        }
      ]
    },
    {
      "cell_type": "code",
      "source": [
        "from ast import Yield\n",
        "#contoh 2\n",
        "X = numpy.array([1,3,5,9,7,15])\n",
        "print(X)\n",
        "Y = numpy.max(X)\n",
        "print(Y)\n",
        "Z = numpy.min(X)\n",
        "print(Z) \n",
        "W = numpy.sum(X)\n",
        "print(W)"
      ],
      "metadata": {
        "colab": {
          "base_uri": "https://localhost:8080/"
        },
        "id": "GG2AawkTI9Wj",
        "outputId": "137f41c4-1f5f-4515-e085-4402cd90889e"
      },
      "execution_count": null,
      "outputs": [
        {
          "output_type": "stream",
          "name": "stdout",
          "text": [
            "[ 1  3  5  9  7 15]\n",
            "15\n",
            "1\n",
            "40\n"
          ]
        }
      ]
    }
  ]
}