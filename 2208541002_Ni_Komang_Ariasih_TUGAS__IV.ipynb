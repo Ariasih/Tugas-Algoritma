{
  "nbformat": 4,
  "nbformat_minor": 0,
  "metadata": {
    "colab": {
      "provenance": []
    },
    "kernelspec": {
      "name": "python3",
      "display_name": "Python 3"
    },
    "language_info": {
      "name": "python"
    }
  },
  "cells": [
    {
      "cell_type": "markdown",
      "source": [
        "# 5.11 ***While Loop***"
      ],
      "metadata": {
        "id": "0m_FL6-dukrZ"
      }
    },
    {
      "cell_type": "code",
      "source": [
        "#while adalah proses pengulangan suatu blok kode program selama sebuah kondisi terpenuhi\n",
        "#perulangan while merupakan perulangan yang tidak pasti\n",
        "x = 0\n",
        "while x<5:\n",
        "  y=x**2\n",
        "  x = x+1\n",
        "  print (str(y))\n",
        "  print (str(x))\n",
        "#while loop akan dieksekusi apabila bernilai benar dan terus mengalami pengulangan sampe bernilai False \n",
        "#while loop akan berhenti apabila bernilai False\n",
        "   "
      ],
      "metadata": {
        "colab": {
          "base_uri": "https://localhost:8080/"
        },
        "id": "zkzUogwHsb-Y",
        "outputId": "b7024cbb-fdf5-408b-d21f-cad921b6c37a"
      },
      "execution_count": null,
      "outputs": [
        {
          "output_type": "stream",
          "name": "stdout",
          "text": [
            "0\n",
            "1\n",
            "1\n",
            "2\n",
            "4\n",
            "3\n",
            "9\n",
            "4\n",
            "16\n",
            "5\n"
          ]
        }
      ]
    },
    {
      "cell_type": "code",
      "source": [
        "a = 0\n",
        "while a<5:\n",
        "  print(\"angka \" + str(a) + \" masih dibawah 5\")\n",
        "  a+= 1\n",
        "#misalkan membuat program dengan bilangan bulat, dengan memasukkan bilangan a lebih besar dari 5\n",
        "#lalu pada print menambahkan kata-kata yang ingin dihasilkan oleh output apabila program bernilai False"
      ],
      "metadata": {
        "colab": {
          "base_uri": "https://localhost:8080/"
        },
        "id": "-xmvfeFbwLH-",
        "outputId": "02cdb377-eb0e-4780-ded5-02e428a5f7fc"
      },
      "execution_count": null,
      "outputs": [
        {
          "output_type": "stream",
          "name": "stdout",
          "text": [
            "angka 0 masih dibawah 5\n",
            "angka 1 masih dibawah 5\n",
            "angka 2 masih dibawah 5\n",
            "angka 3 masih dibawah 5\n",
            "angka 4 masih dibawah 5\n"
          ]
        }
      ]
    },
    {
      "cell_type": "code",
      "source": [
        "a = 0 \n",
        "while a<5:\n",
        "  print(a * \"^\")\n",
        "  a+= 1\n",
        "#membuat program bilangan bulat, dengan menambahkan \"1\" pada print. Sehingga apabila program bernilai true akan menghasilkan\n",
        "#output seperti dibawah\n",
        "#a+1 artinya setiap bilangan a akan ditambahkan 1 dan akan berhenti sampai a+1 berjumlah 5"
      ],
      "metadata": {
        "id": "2mGvv7wQytcS",
        "colab": {
          "base_uri": "https://localhost:8080/"
        },
        "outputId": "39e81df4-5577-4c11-d78d-b78c653bf263"
      },
      "execution_count": null,
      "outputs": [
        {
          "output_type": "stream",
          "name": "stdout",
          "text": [
            "\n",
            "^\n",
            "^^\n",
            "^^^\n",
            "^^^^\n"
          ]
        }
      ]
    },
    {
      "cell_type": "code",
      "source": [
        "x = 3\n",
        "while x+1 <6:\n",
        "  print(\"Hai! Aku ari\")\n",
        "  x+= 2\n",
        "#jika dieksekusi akan mencetak kata yang dalam print sebanya 1 kali\n",
        "#karena ada syarat kalau x+1<6"
      ],
      "metadata": {
        "colab": {
          "base_uri": "https://localhost:8080/"
        },
        "id": "b3RNA5DT57-s",
        "outputId": "96faf4e5-3ad7-4883-aa31-a456cf22d563"
      },
      "execution_count": null,
      "outputs": [
        {
          "output_type": "stream",
          "name": "stdout",
          "text": [
            "Hai! Aku ari\n"
          ]
        }
      ]
    },
    {
      "cell_type": "code",
      "source": [
        "x = 3\n",
        "while x+1 ==4:\n",
        "  print(\"Hai! Aku ari\")\n",
        "#pada kasus ini, program akan mencetak kata di \"Hai! Aku Ari\" berkali-kali\n",
        "#karena kita meminta program untuk menulis \"Hai! Aku Ari\", dengan syarat 3+1=4\n",
        "#program akan terus berjalan, karena 3+1 terus menerus akan 4\n",
        "\n",
        "  "
      ],
      "metadata": {
        "id": "e8XB5VMg85-L"
      },
      "execution_count": null,
      "outputs": []
    },
    {
      "cell_type": "code",
      "source": [
        "a = int(input('Masukkan bilangan ganjil : '))\n",
        "while a % 3 != 1:\n",
        "  a = int(input('Salah, masukkan lagi: '))\n",
        "print('Benar')\n",
        "#perulangan while dengan inputan\n",
        "#diminta untuk menginput bilangan ganjil, apabila nilai yang kita input genap maka program akan menyuruh kita untuk menginput ulang\n",
        "#apabila nilai yang kita input mengasilkan modulo tidak sama dengan 1, kama kita juga disuruh menginput ulang"
      ],
      "metadata": {
        "colab": {
          "base_uri": "https://localhost:8080/"
        },
        "id": "tHd3wUs_AMMO",
        "outputId": "0f6b1d9a-0189-439f-9e90-a942b6cb81dd"
      },
      "execution_count": null,
      "outputs": [
        {
          "output_type": "stream",
          "name": "stdout",
          "text": [
            "Masukkan bilangan ganjil : 2\n",
            "Salah, masukkan lagi: 5\n",
            "Salah, masukkan lagi: 7\n",
            "Benar\n"
          ]
        }
      ]
    },
    {
      "cell_type": "markdown",
      "source": [
        "# 5.12 ***List pada Phyton***"
      ],
      "metadata": {
        "id": "hXlWqU5eCisK"
      }
    },
    {
      "cell_type": "code",
      "source": [
        "#list pada phyton\n",
        "#List dapat digunakan saat kita akan merepresentasikan objek di dalam Python\n",
        "#list dapat dipanggil sesuai urutan dan juga dapat dirubah\n",
        "#Membuat list tinggal memasukkan berbagai nilai yang dipisahkan koma di antara tanda kurung siku\n",
        "bunga = [\"kamboja\", \"jempiring\", \"kembang sepatu\", \"mawar\"]\n",
        "print(bunga)"
      ],
      "metadata": {
        "id": "qq_jcVFP0ip9",
        "colab": {
          "base_uri": "https://localhost:8080/"
        },
        "outputId": "8e9ea649-965b-4aa2-f90c-3e9128abf79f"
      },
      "execution_count": null,
      "outputs": [
        {
          "output_type": "stream",
          "name": "stdout",
          "text": [
            "['kamboja', 'jempiring', 'kembang sepatu', 'mawar']\n"
          ]
        }
      ]
    },
    {
      "cell_type": "code",
      "source": [
        "bunga = [\"kamboja\", \"jempiring\", \"kembang sepatu\", \"mawar\"]\n",
        "print(bunga [2])\n",
        "print(bunga[-2])\n",
        "#penomoran dimulai dari 0, apabila menghitung dari depan\n",
        "#data yang paling belakang didefinisikan -1 apabila dihitung dari belakang, begitu seterusnya"
      ],
      "metadata": {
        "colab": {
          "base_uri": "https://localhost:8080/"
        },
        "id": "AsHI3F0dFAz6",
        "outputId": "f753fb87-45bb-4146-da5a-94c1e8f27b3d"
      },
      "execution_count": null,
      "outputs": [
        {
          "output_type": "stream",
          "name": "stdout",
          "text": [
            "kembang sepatu\n",
            "kembang sepatu\n"
          ]
        }
      ]
    },
    {
      "cell_type": "code",
      "source": [
        "bunga = [\"kamboja\", \"jempiring\", \"kembang sepatu\", \"mawar\"]\n",
        "bunga [0] = \"lotus\"\n",
        "print(bunga)\n",
        "#ini artinya bunga yang didefinisikan 0 (kamboja) digantikan dengan bunga lotus\n",
        "print(bunga[0:3])#angka 0 menunjukan mulai darimana, sedangkan angka 3 menunjukkan sampai mana"
      ],
      "metadata": {
        "colab": {
          "base_uri": "https://localhost:8080/"
        },
        "id": "ONVbKVSrF0ZZ",
        "outputId": "f475a165-f357-4b66-db33-4d638bf7992b"
      },
      "execution_count": null,
      "outputs": [
        {
          "output_type": "stream",
          "name": "stdout",
          "text": [
            "['lotus', 'jempiring', 'kembang sepatu', 'mawar']\n",
            "['lotus', 'jempiring', 'kembang sepatu']\n"
          ]
        }
      ]
    },
    {
      "cell_type": "code",
      "source": [
        "list = ['fisika', 'kimia', 1993, 2017]\n",
        "print (\"Nilai ada pada index 2 : \", list[2])\n",
        "list[2] = 2001\n",
        "print (\"Nilai baru ada pada index 2 : \", list[2])\n",
        "#kita dapat memperbarui nilai di dalam list dengan memberikan potongan di sisi kiri operator penugasan\n",
        "#dan kita dapat menambahkan nilai ke dalam list dengan metode append ()"
      ],
      "metadata": {
        "colab": {
          "base_uri": "https://localhost:8080/"
        },
        "id": "QaonNq3hIGbX",
        "outputId": "23283971-bd2d-41cf-f329-99223d5453cb"
      },
      "execution_count": null,
      "outputs": [
        {
          "output_type": "stream",
          "name": "stdout",
          "text": [
            "Nilai ada pada index 2 :  1993\n",
            "Nilai baru ada pada index 2 :  2017\n"
          ]
        }
      ]
    },
    {
      "cell_type": "code",
      "source": [
        "#Operasi dasar pada list phyton\n",
        "#Concatenation\n",
        "Bilangan_1 = [1, 2, 3]\n",
        "Bilangan_2 = [4, 5, 6]\n",
        "print([1, 2, 3] + [4, 5, 6])\n",
        "#Repetition\n",
        "print([\"HAI!\"]*4)\n",
        "#Membership\n",
        "A = [\"a\", \"b\", \"c\", \"d\"]\n",
        "print(\"b\" in A)\n"
      ],
      "metadata": {
        "colab": {
          "base_uri": "https://localhost:8080/"
        },
        "id": "eDHAThpl4K2J",
        "outputId": "0674f377-a53f-4ae7-f288-299c3bb73734"
      },
      "execution_count": null,
      "outputs": [
        {
          "output_type": "stream",
          "name": "stdout",
          "text": [
            "[1, 2, 3, 4, 5, 6]\n",
            "['HAI!', 'HAI!', 'HAI!', 'HAI!']\n",
            "True\n"
          ]
        }
      ]
    },
    {
      "cell_type": "markdown",
      "source": [
        "# 5.13 ***Metoda List***"
      ],
      "metadata": {
        "id": "hPXcu9FDByUL"
      }
    },
    {
      "cell_type": "code",
      "source": [
        "#Karena list merupakan objek, maka keberadaannya dapat dimanipulasi dengan\n",
        "#menambahkan atau menghilangkan isi nya.\n",
        "nim = [\"01\", \"02\", \"03\", \"04\", \"05\"]\n",
        "nim.append (\"06\") #digunakan untuk menambahkan data, dan data yang ditambahkan ada pada urutan belakang\n",
        "print(nim)\n",
        "\n",
        "nim.insert(0, \"10\") #digunakan untuk menambahkan data, dan data yang ditambahkan terletak pada urutan terdepan\n",
        "print(nim)\n",
        "\n",
        "nim.remove(\"03\") #digunakan untuk menghapus data\n",
        "print(nim)\n",
        "\n",
        "print(\"03\" in nim) #digunakan apakah suatu data masih ada atau tertulis di suatu program\n",
        "                    #ini akan bernilai False karena nim 03 sudah diremove sebelumnya\n",
        "print(\"01\" in nim) #ini akan bernilai True karena 01 tidak dihapus dan masih ada di dalam data\n",
        "\n",
        "print(len(nim)) #digunakan untuk menampilkan jumlah data"
      ],
      "metadata": {
        "colab": {
          "base_uri": "https://localhost:8080/"
        },
        "id": "pWm3_SUhKtuB",
        "outputId": "b6e357a6-e7c3-4c13-ec11-26fdea79ec68"
      },
      "execution_count": null,
      "outputs": [
        {
          "output_type": "stream",
          "name": "stdout",
          "text": [
            "['01', '02', '03', '04', '05', '06']\n",
            "['10', '01', '02', '03', '04', '05', '06']\n",
            "['10', '01', '02', '04', '05', '06']\n",
            "False\n",
            "True\n",
            "6\n"
          ]
        }
      ]
    },
    {
      "cell_type": "code",
      "source": [
        "bilangan = [\"1\",\"2\",\"4\",\"3\",\"8\",\"7\",\"9\",\"5\",\"21\"]\n",
        "#append\n",
        "print(\"menambahkan data pada bilangan dengan append\")\n",
        "bilangan.append (\"11\")\n",
        "bilangan.append(\"10\")\n",
        "bilangan.append (\"12\")\n",
        "print(bilangan)\n",
        "print(\" \")\n",
        "print(len(bilangan))\n",
        "print(\" \") \n",
        "#insert\n",
        "print(\"menambahkan data pada bilangan dengan insert\")\n",
        "bilangan.insert(0,12)\n",
        "bilangan.insert(3,13)\n",
        "bilangan.insert(5,20)\n",
        "print(bilangan)\n",
        "print(\" \")\n",
        "print(len(bilangan)) "
      ],
      "metadata": {
        "id": "NiyIve-z6YM9",
        "outputId": "e1ea9f2c-8769-4afd-b8bb-ebd6af783950",
        "colab": {
          "base_uri": "https://localhost:8080/"
        }
      },
      "execution_count": 12,
      "outputs": [
        {
          "output_type": "stream",
          "name": "stdout",
          "text": [
            "menambahkan data pada bilangan dengan append\n",
            "['1', '2', '4', '3', '8', '7', '9', '5', '21', '11', '10', '12']\n",
            " \n",
            "12\n",
            " \n",
            "menambahkan data pada bilangan dengan insert\n",
            "[12, '1', '2', 13, '4', 20, '3', '8', '7', '9', '5', '21', '11', '10', '12']\n",
            " \n",
            "15\n"
          ]
        }
      ]
    },
    {
      "cell_type": "code",
      "source": [
        "list = ['fisika', 'kimia', 1993, 2017]\n",
        "print (\"Nilai ada pada index 2 : \", list[2])\n",
        "list[2] = 2001\n",
        "print (\"Nilai baru ada pada index 2 : \", list[2])\n",
        "#kita dapat memperbarui nilai di dalam list dengan memberikan potongan di sisi kiri operator penugasan\n",
        "#dan kita dapat menambahkan nilai ke dalam list dengan metode append ()"
      ],
      "metadata": {
        "colab": {
          "base_uri": "https://localhost:8080/"
        },
        "id": "XtFrOQ8PjOum",
        "outputId": "5290baab-d82c-4d51-e604-d723253a0958"
      },
      "execution_count": null,
      "outputs": [
        {
          "output_type": "stream",
          "name": "stdout",
          "text": [
            "Nilai ada pada index 2 :  1993\n",
            "Nilai baru ada pada index 2 :  2001\n"
          ]
        }
      ]
    },
    {
      "cell_type": "markdown",
      "source": [
        "# 5.14 ***For Loop***\n",
        "Untuk mengulang blok kode selama beberapa waktu\n",
        "Perulangan for mengatur variabel iterator untuk setiap nilai yang ada di dalam list, array atau string dan melakukan proses di dalam badan perulangan for yang bersangkutan."
      ],
      "metadata": {
        "id": "MQmKhszzKVY7"
      }
    },
    {
      "cell_type": "code",
      "source": [
        "#for loop digunakan untuk memanggil semua list\n",
        "#for loop dan while loop\n",
        "buah = [\"mangga\",\"durian\", \"salak\", \"jeruk\"]\n",
        "for jenis in buah: \n",
        "  print(jenis) \n",
        "#hasilnya akan sama denga while loop\n",
        "print(\" \")\n",
        "buah = [\"mangga\",\"durian\", \"salak\", \"jeruk\"]\n",
        "i = 0\n",
        "while i < len(buah): #ini menunjukkan apakah i lebih kecil dari banyaknya data buah\n",
        "  print(buah[i])\n",
        "  i+=1\n",
        "#karena bernilai True, maka akan menghasilkan output yang sama dengan program for\n",
        "#eksekusi terhadap blok kode dilakukan berulang kali sesuai dengan variabel yang mengatur perulangan."
      ],
      "metadata": {
        "colab": {
          "base_uri": "https://localhost:8080/"
        },
        "id": "Oas80h-NKrH_",
        "outputId": "71f844fb-3653-43d8-cf41-b5634f7ade5a"
      },
      "execution_count": 2,
      "outputs": [
        {
          "output_type": "stream",
          "name": "stdout",
          "text": [
            "mangga\n",
            "durian\n",
            "salak\n",
            "jeruk\n",
            " \n",
            "mangga\n",
            "durian\n",
            "salak\n",
            "jeruk\n"
          ]
        }
      ]
    },
    {
      "cell_type": "code",
      "source": [
        "#penambahan kode yang lebih kompleks pada blok for\n",
        "for i in [1,2,4,16]:\n",
        "    x = i**3 - (i-1)*(i+1) #setiap data i dioperasikan pada data berikut\n",
        "    print(x, end=\",\")#output yang dihasilkan sampai dengan data yang terakhir "
      ],
      "metadata": {
        "colab": {
          "base_uri": "https://localhost:8080/"
        },
        "id": "MHHc8xUI5MDm",
        "outputId": "5c7f7ee4-93ca-4890-fbc6-c37cedd27824"
      },
      "execution_count": null,
      "outputs": [
        {
          "output_type": "stream",
          "name": "stdout",
          "text": [
            "1,5,49,3841,"
          ]
        }
      ]
    },
    {
      "cell_type": "code",
      "source": [
        "kalimat = \"Hai aku suka BTS \"\n",
        "kata_kata = [\"Hai\", \"aku\", \"suka\", \"BTS\"]\n",
        "for huruf in kalimat: \n",
        "  print(huruf) #jadi disini program akan menghasilkan setiap huruf dari kalimat\n",
        "for kata in kata_kata:\n",
        "  print(kata) #disini program akan menghasilkan per kata pada kata_kata\n",
        "#huruf dan kata sebagai variabel (penampung elemen iterable)\n",
        "#kalimat dan kata_kata sebagai iterable (nilai yang menjadi perulangan)\n",
        "#print adalah perintah"
      ],
      "metadata": {
        "colab": {
          "base_uri": "https://localhost:8080/"
        },
        "id": "RlmCtLQq9UEZ",
        "outputId": "d2159edf-aac3-4d7d-9884-4f4b940aa552"
      },
      "execution_count": null,
      "outputs": [
        {
          "output_type": "stream",
          "name": "stdout",
          "text": [
            "H\n",
            "a\n",
            "i\n",
            " \n",
            "a\n",
            "k\n",
            "u\n",
            " \n",
            "s\n",
            "u\n",
            "k\n",
            "a\n",
            " \n",
            "B\n",
            "T\n",
            "S\n",
            " \n",
            "Hai\n",
            "aku\n",
            "suka\n",
            "BTS\n"
          ]
        }
      ]
    },
    {
      "cell_type": "code",
      "source": [
        "nilai = [1,3,5,7]\n",
        "for i in nilai:\n",
        "  print(i)"
      ],
      "metadata": {
        "id": "ifPnkW6h2mMN",
        "outputId": "1f348ec6-3071-44d3-bab0-99ee41203d91",
        "colab": {
          "base_uri": "https://localhost:8080/"
        }
      },
      "execution_count": 1,
      "outputs": [
        {
          "output_type": "stream",
          "name": "stdout",
          "text": [
            "1\n",
            "3\n",
            "5\n",
            "7\n"
          ]
        }
      ]
    },
    {
      "cell_type": "code",
      "source": [
        "kesukaan = [\"BTS\", \"BLACKPINK\" , \"JISOO\"]\n",
        "for keinginan in kesukaan:\n",
        "  print(\"saya ingin bertemu dengan\", keinginan)"
      ],
      "metadata": {
        "id": "Q3h--Hp74keV",
        "outputId": "d39ba0a8-ca5a-49c0-cf96-3cc3afd680cf",
        "colab": {
          "base_uri": "https://localhost:8080/"
        }
      },
      "execution_count": 5,
      "outputs": [
        {
          "output_type": "stream",
          "name": "stdout",
          "text": [
            "saya ingin bertemu dengan BTS\n",
            "saya ingin bertemu dengan BLACKPINK\n",
            "saya ingin bertemu dengan JISOO\n"
          ]
        }
      ]
    },
    {
      "cell_type": "markdown",
      "source": [
        "# 5.15 ***Fungsi Range***\n",
        "fungsi Range digunakan untuk menghasilkan list baru dengan rentang nilai tertentu. Fungsi range juga digunakan untuk menyederhanakan penulisan perulangan for loop"
      ],
      "metadata": {
        "id": "Yroh1e75KgJm"
      }
    },
    {
      "cell_type": "code",
      "source": [
        "#Fungsi range berguna untuk membangkitkan bilangan berurutan atau berpola\n",
        "#penggunaanya harus dikombinasikan dengan for loop\n",
        "nilai = range(10)\n",
        "print(nilai) #indeks dimulai dari 0\n",
        "print(\" \")\n",
        "for angka in nilai:\n",
        "  print(angka) #indeks dimulai dari 0 sehingga angka terakhir adalah 9\n",
        "#\n",
        "print(\" \")\n",
        "for angka in range(11,20):         \n",
        "  print(angka)                                 \n",
        "print(\" \")\n",
        "for angka in range(0,10,3):\n",
        "  print(angka)\n",
        "#ini akan menghasilkan outpt yang dimulai dari 0 dengan angka selanjutnya di loncat 3 angka dan batasnya adalah angka 10"
      ],
      "metadata": {
        "colab": {
          "base_uri": "https://localhost:8080/"
        },
        "id": "2nZ7A-3f_1Bf",
        "outputId": "a93a6c51-e96c-43ad-a157-3000030fe7e3"
      },
      "execution_count": 1,
      "outputs": [
        {
          "output_type": "stream",
          "name": "stdout",
          "text": [
            "range(0, 10)\n",
            " \n",
            "0\n",
            "1\n",
            "2\n",
            "3\n",
            "4\n",
            "5\n",
            "6\n",
            "7\n",
            "8\n",
            "9\n",
            " \n",
            "11\n",
            "12\n",
            "13\n",
            "14\n",
            "15\n",
            "16\n",
            "17\n",
            "18\n",
            "19\n",
            " \n",
            "0\n",
            "3\n",
            "6\n",
            "9\n"
          ]
        }
      ]
    },
    {
      "cell_type": "code",
      "source": [
        "for i in range(5):\n",
        "  print(\"Hello World\")\n",
        "#ini akan menghasilkan output \"Hello World\" sebanyak 5 kali"
      ],
      "metadata": {
        "colab": {
          "base_uri": "https://localhost:8080/"
        },
        "id": "534iJgeDD5YE",
        "outputId": "3664a90d-0272-40be-8b36-35dd13e4f8ee"
      },
      "execution_count": null,
      "outputs": [
        {
          "output_type": "stream",
          "name": "stdout",
          "text": [
            "Hello World\n",
            "Hello World\n",
            "Hello World\n",
            "Hello World\n",
            "Hello World\n"
          ]
        }
      ]
    },
    {
      "cell_type": "code",
      "source": [
        "data =[1,2,5,6,3,4,7,8,9,2]\n",
        "terbesar = data[0]\n",
        "for i in range(len(data)):\n",
        "  if data[i] > terbesar:\n",
        "    terbesar = data[i]\n",
        "print(terbesar)\n",
        "#untuk mencari data terbesar"
      ],
      "metadata": {
        "colab": {
          "base_uri": "https://localhost:8080/"
        },
        "id": "sH8sMgldgI__",
        "outputId": "ca6e8f53-06e9-4d1a-986b-17241dc6394f"
      },
      "execution_count": 7,
      "outputs": [
        {
          "output_type": "stream",
          "name": "stdout",
          "text": [
            "9\n",
            "9\n"
          ]
        }
      ]
    },
    {
      "cell_type": "code",
      "source": [
        "data =[1,2,5,6,3,4,7,8,9,2]\n",
        "terbesar = data[0]\n",
        "for angka in data:\n",
        "  if angka > terbesar:\n",
        "    terbesar = angka\n",
        "print(terbesar)\n",
        "#untuk mencari data terbesar"
      ],
      "metadata": {
        "id": "yxiaNDg6kAZU",
        "outputId": "931b8571-0950-45ec-dc63-805fc0413375",
        "colab": {
          "base_uri": "https://localhost:8080/"
        }
      },
      "execution_count": 8,
      "outputs": [
        {
          "output_type": "stream",
          "name": "stdout",
          "text": [
            "9\n"
          ]
        }
      ]
    },
    {
      "cell_type": "code",
      "source": [
        "data = [1,1,3,4,2,4,3,2,5,6,4,3]\n",
        "data_unik = [] #membuat program agar tidak memiliki angka kembar\n",
        "for angka in data: \n",
        "  if angka not in data_unik: #membandingkan setiap anggota data\n",
        "    data_unik.append(angka)\n",
        "print(data_unik)\n",
        "#output yang dihasilkan tidak akan ada angka kembar, karena pada saat dibandingkan jika ada angka yang sama maka langsung dihapus"
      ],
      "metadata": {
        "id": "ZaSxDycTnfyI",
        "outputId": "566feef2-3b9f-4110-b78a-a45bc80808f0",
        "colab": {
          "base_uri": "https://localhost:8080/"
        }
      },
      "execution_count": 9,
      "outputs": [
        {
          "output_type": "stream",
          "name": "stdout",
          "text": [
            "[1, 3, 4, 2, 5, 6]\n"
          ]
        }
      ]
    }
  ]
}